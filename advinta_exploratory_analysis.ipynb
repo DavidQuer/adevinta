{
 "cells": [
  {
   "cell_type": "markdown",
   "metadata": {},
   "source": [
    "# Adevinta: Exploratory and Correlations Analysis\n",
    "\n",
    "**Summay:** We have started with an exploratory analysis of the data provided. \n",
    "\n",
    "The dataset in question is about properties/real state defined by the following variables:\n",
    "- **idproperty** – int propery identifier\n",
    "- **province** – string (location data) : categorical nominal\n",
    "- **municipality** – string (location data) : categorical nominal\n",
    "- **surface** – int square meters : numerical\n",
    "- **rooms** – int number of rooms : numerical or categorical ordinal (numerical in our choice)\n",
    "- **baths** – int numeber of baths : numerical or categorical ordinal (numerical in our choice)\n",
    "- **property_type** – string property type (\"Vivienda\" in our case so the variable has been dropped)\n",
    "- **property_subtype** – string property subtype : categorical nominal ('Apartamento', 'Casa-Chalet', 'Piso', ...)\n",
    "- **transaction_type** – string transaction type : categorical (\"Sell\", \"Rent\", \"Share\", \"Added in Olap\")\n",
    "- **price** – float property price : numerical\n",
    "- **description** – string description : textual data\n",
    "\n",
    "The dataset contains 1208 observations and 11 variables, from which 3 idproperty, property_type and are not considered in this analysis for different reasons.\n",
    "\n",
    "No missing values where found but only 904 unique idproperty's where found so, in we had to deal with the duplicates in the following way:\n",
    "\n",
    "- **Separating the dataset** between Sell and Rent properties (Share is exclueded only 5 observations)\n",
    "  * df_fotocasa_sell: Sell properties: 875 unique observations\n",
    "  * df_fotocasa_rent: Rent properties: 181 unique observations\n",
    "- **Not separating the dataset** but excluding price as a feature and only considering the descriptive features as rooms, surface... description for NLP and images for IMR\n",
    "\n",
    "In most cases, we had to convert categorical variables into numerical ones. The reason why is that most of the machine learning algoriths, exept for decision trees, random forest and other cases work with numerical variables. The methodology followed has been:\n",
    "\n",
    "- For location data (province and municipalitu): geolocation to latitude and longitude\n",
    "- For the other cases we applied the .getdummies() function creating a variable for each category level (one-hot-encoding could have been another solution to this problem)\n",
    "\n",
    "\n",
    "**Differences in distributions** \n",
    "\n",
    "There are significant differences in the distribution of surfaces, prices... between selling and renting properties.\n",
    "\n",
    "**Correlations**\n",
    "\n",
    "In Sell and Rent propeties there are strong correlations between surface, rooms and baths. Also in latitude and longitude"
   ]
  },
  {
   "cell_type": "code",
   "execution_count": 1,
   "metadata": {},
   "outputs": [
    {
     "data": {
      "text/html": [
       "<style>.container { width:95% !important; }</style>"
      ],
      "text/plain": [
       "<IPython.core.display.HTML object>"
      ]
     },
     "metadata": {},
     "output_type": "display_data"
    }
   ],
   "source": [
    "from IPython.core.display import display, HTML\n",
    "display(HTML(\"<style>.container { width:95% !important; }</style>\"))"
   ]
  },
  {
   "cell_type": "code",
   "execution_count": 2,
   "metadata": {},
   "outputs": [],
   "source": [
    "%matplotlib inline"
   ]
  },
  {
   "cell_type": "code",
   "execution_count": 85,
   "metadata": {},
   "outputs": [],
   "source": [
    "import pandas as pd\n",
    "import numpy as np\n",
    "\n",
    "import seaborn as sns\n",
    "import matplotlib.pyplot as plt\n",
    "\n",
    "from scipy import stats\n",
    "from scipy.stats import mannwhitneyu, chisquare\n",
    "import statsmodels.api as sm"
   ]
  },
  {
   "cell_type": "markdown",
   "metadata": {},
   "source": [
    "## Adevinta: Dataset cleaning"
   ]
  },
  {
   "cell_type": "markdown",
   "metadata": {},
   "source": [
    "### Adevinta: Dataset loading and description"
   ]
  },
  {
   "cell_type": "code",
   "execution_count": 4,
   "metadata": {},
   "outputs": [],
   "source": [
    "df_fotocasa = pd.read_csv(\"./data/problem_data_reduced.csv\",sep=\"|\")"
   ]
  },
  {
   "cell_type": "code",
   "execution_count": 5,
   "metadata": {},
   "outputs": [
    {
     "data": {
      "text/html": [
       "<div>\n",
       "<style scoped>\n",
       "    .dataframe tbody tr th:only-of-type {\n",
       "        vertical-align: middle;\n",
       "    }\n",
       "\n",
       "    .dataframe tbody tr th {\n",
       "        vertical-align: top;\n",
       "    }\n",
       "\n",
       "    .dataframe thead th {\n",
       "        text-align: right;\n",
       "    }\n",
       "</style>\n",
       "<table border=\"1\" class=\"dataframe\">\n",
       "  <thead>\n",
       "    <tr style=\"text-align: right;\">\n",
       "      <th></th>\n",
       "      <th>idproperty</th>\n",
       "      <th>province</th>\n",
       "      <th>municipality</th>\n",
       "      <th>surface</th>\n",
       "      <th>rooms</th>\n",
       "      <th>baths</th>\n",
       "      <th>property_type</th>\n",
       "      <th>property_subtype</th>\n",
       "      <th>transacion_type</th>\n",
       "      <th>price</th>\n",
       "      <th>description</th>\n",
       "    </tr>\n",
       "  </thead>\n",
       "  <tbody>\n",
       "    <tr>\n",
       "      <th>0</th>\n",
       "      <td>qkgdhixsul</td>\n",
       "      <td>Girona</td>\n",
       "      <td>Castell-Platja d'Aro</td>\n",
       "      <td>60</td>\n",
       "      <td>2</td>\n",
       "      <td>1</td>\n",
       "      <td>Vivienda</td>\n",
       "      <td>Apartamento</td>\n",
       "      <td>Sell</td>\n",
       "      <td>178000.0</td>\n",
       "      <td>apartamento de 60 m2, dsistribuido en cocina i...</td>\n",
       "    </tr>\n",
       "    <tr>\n",
       "      <th>1</th>\n",
       "      <td>swigwvclxz</td>\n",
       "      <td>Barcelona</td>\n",
       "      <td>Vilanova i la Geltrú</td>\n",
       "      <td>197</td>\n",
       "      <td>4</td>\n",
       "      <td>2</td>\n",
       "      <td>Vivienda</td>\n",
       "      <td>Casa-Chalet</td>\n",
       "      <td>Sell</td>\n",
       "      <td>345000.0</td>\n",
       "      <td>VILANOVA I LA GELTRULes presentamos esta casa ...</td>\n",
       "    </tr>\n",
       "    <tr>\n",
       "      <th>2</th>\n",
       "      <td>bfvgsrcdoj</td>\n",
       "      <td>Lleida</td>\n",
       "      <td>Fondarella</td>\n",
       "      <td>375</td>\n",
       "      <td>5</td>\n",
       "      <td>3</td>\n",
       "      <td>Vivienda</td>\n",
       "      <td>Casa-Chalet</td>\n",
       "      <td>Sell</td>\n",
       "      <td>180000.0</td>\n",
       "      <td></td>\n",
       "    </tr>\n",
       "    <tr>\n",
       "      <th>3</th>\n",
       "      <td>tsracvmevc</td>\n",
       "      <td>Girona</td>\n",
       "      <td>Girona Capital</td>\n",
       "      <td>89</td>\n",
       "      <td>4</td>\n",
       "      <td>2</td>\n",
       "      <td>Vivienda</td>\n",
       "      <td>Piso</td>\n",
       "      <td>Sell</td>\n",
       "      <td>187000.0</td>\n",
       "      <td>Pis de 89m2, menjador de 23m2, cuina office de...</td>\n",
       "    </tr>\n",
       "    <tr>\n",
       "      <th>4</th>\n",
       "      <td>biayppbmen</td>\n",
       "      <td>Barcelona</td>\n",
       "      <td>Manresa</td>\n",
       "      <td>180</td>\n",
       "      <td>6</td>\n",
       "      <td>1</td>\n",
       "      <td>Vivienda</td>\n",
       "      <td>Piso</td>\n",
       "      <td>Sell</td>\n",
       "      <td>350000.0</td>\n",
       "      <td>MANRESA, piso de 6 habitaciones muy amplias to...</td>\n",
       "    </tr>\n",
       "  </tbody>\n",
       "</table>\n",
       "</div>"
      ],
      "text/plain": [
       "   idproperty   province          municipality  surface  rooms  baths  \\\n",
       "0  qkgdhixsul     Girona  Castell-Platja d'Aro       60      2      1   \n",
       "1  swigwvclxz  Barcelona  Vilanova i la Geltrú      197      4      2   \n",
       "2  bfvgsrcdoj     Lleida            Fondarella      375      5      3   \n",
       "3  tsracvmevc     Girona        Girona Capital       89      4      2   \n",
       "4  biayppbmen  Barcelona               Manresa      180      6      1   \n",
       "\n",
       "  property_type property_subtype transacion_type     price  \\\n",
       "0      Vivienda      Apartamento            Sell  178000.0   \n",
       "1      Vivienda      Casa-Chalet            Sell  345000.0   \n",
       "2      Vivienda      Casa-Chalet            Sell  180000.0   \n",
       "3      Vivienda             Piso            Sell  187000.0   \n",
       "4      Vivienda             Piso            Sell  350000.0   \n",
       "\n",
       "                                         description  \n",
       "0  apartamento de 60 m2, dsistribuido en cocina i...  \n",
       "1  VILANOVA I LA GELTRULes presentamos esta casa ...  \n",
       "2                                                     \n",
       "3  Pis de 89m2, menjador de 23m2, cuina office de...  \n",
       "4  MANRESA, piso de 6 habitaciones muy amplias to...  "
      ]
     },
     "execution_count": 5,
     "metadata": {},
     "output_type": "execute_result"
    }
   ],
   "source": [
    "df_fotocasa.head()"
   ]
  },
  {
   "cell_type": "code",
   "execution_count": 6,
   "metadata": {},
   "outputs": [
    {
     "name": "stdout",
     "output_type": "stream",
     "text": [
      "\n",
      "Observations: 1208, Features: 10\n",
      "\n"
     ]
    }
   ],
   "source": [
    "print(\"\\nObservations: {}, Features: {}\\n\".format(df_fotocasa.shape[0], df_fotocasa.shape[1]-1))"
   ]
  },
  {
   "cell_type": "code",
   "execution_count": 7,
   "metadata": {},
   "outputs": [
    {
     "data": {
      "text/html": [
       "<div>\n",
       "<style scoped>\n",
       "    .dataframe tbody tr th:only-of-type {\n",
       "        vertical-align: middle;\n",
       "    }\n",
       "\n",
       "    .dataframe tbody tr th {\n",
       "        vertical-align: top;\n",
       "    }\n",
       "\n",
       "    .dataframe thead th {\n",
       "        text-align: right;\n",
       "    }\n",
       "</style>\n",
       "<table border=\"1\" class=\"dataframe\">\n",
       "  <thead>\n",
       "    <tr style=\"text-align: right;\">\n",
       "      <th></th>\n",
       "      <th>idproperty</th>\n",
       "      <th>province</th>\n",
       "      <th>municipality</th>\n",
       "      <th>surface</th>\n",
       "      <th>rooms</th>\n",
       "      <th>baths</th>\n",
       "      <th>property_type</th>\n",
       "      <th>property_subtype</th>\n",
       "      <th>transacion_type</th>\n",
       "      <th>price</th>\n",
       "      <th>description</th>\n",
       "    </tr>\n",
       "  </thead>\n",
       "  <tbody>\n",
       "    <tr>\n",
       "      <th>count</th>\n",
       "      <td>1208</td>\n",
       "      <td>1208</td>\n",
       "      <td>1208</td>\n",
       "      <td>1208.000000</td>\n",
       "      <td>1208.000000</td>\n",
       "      <td>1208.000000</td>\n",
       "      <td>1208</td>\n",
       "      <td>1208</td>\n",
       "      <td>1208</td>\n",
       "      <td>1.208000e+03</td>\n",
       "      <td>1208</td>\n",
       "    </tr>\n",
       "    <tr>\n",
       "      <th>unique</th>\n",
       "      <td>904</td>\n",
       "      <td>4</td>\n",
       "      <td>365</td>\n",
       "      <td>-1.000000</td>\n",
       "      <td>-1.000000</td>\n",
       "      <td>-1.000000</td>\n",
       "      <td>1</td>\n",
       "      <td>10</td>\n",
       "      <td>4</td>\n",
       "      <td>-1.000000e+00</td>\n",
       "      <td>894</td>\n",
       "    </tr>\n",
       "    <tr>\n",
       "      <th>top</th>\n",
       "      <td>jyidsvhzha</td>\n",
       "      <td>Barcelona</td>\n",
       "      <td>Tarragona Capital</td>\n",
       "      <td>-1.000000</td>\n",
       "      <td>-1.000000</td>\n",
       "      <td>-1.000000</td>\n",
       "      <td>Vivienda</td>\n",
       "      <td>Casa-Chalet</td>\n",
       "      <td>Sell</td>\n",
       "      <td>-1.000000e+00</td>\n",
       "      <td></td>\n",
       "    </tr>\n",
       "    <tr>\n",
       "      <th>freq</th>\n",
       "      <td>10</td>\n",
       "      <td>410</td>\n",
       "      <td>29</td>\n",
       "      <td>-1.000000</td>\n",
       "      <td>-1.000000</td>\n",
       "      <td>-1.000000</td>\n",
       "      <td>1208</td>\n",
       "      <td>367</td>\n",
       "      <td>923</td>\n",
       "      <td>-1.000000e+00</td>\n",
       "      <td>65</td>\n",
       "    </tr>\n",
       "    <tr>\n",
       "      <th>mean</th>\n",
       "      <td>-1</td>\n",
       "      <td>-1</td>\n",
       "      <td>-1</td>\n",
       "      <td>1272.086921</td>\n",
       "      <td>3.491722</td>\n",
       "      <td>2.047185</td>\n",
       "      <td>-1</td>\n",
       "      <td>-1</td>\n",
       "      <td>-1</td>\n",
       "      <td>2.386080e+05</td>\n",
       "      <td>-1</td>\n",
       "    </tr>\n",
       "    <tr>\n",
       "      <th>std</th>\n",
       "      <td>-1</td>\n",
       "      <td>-1</td>\n",
       "      <td>-1</td>\n",
       "      <td>29115.113512</td>\n",
       "      <td>1.600517</td>\n",
       "      <td>1.198698</td>\n",
       "      <td>-1</td>\n",
       "      <td>-1</td>\n",
       "      <td>-1</td>\n",
       "      <td>3.462939e+05</td>\n",
       "      <td>-1</td>\n",
       "    </tr>\n",
       "    <tr>\n",
       "      <th>min</th>\n",
       "      <td>-1</td>\n",
       "      <td>-1</td>\n",
       "      <td>-1</td>\n",
       "      <td>0.000000</td>\n",
       "      <td>0.000000</td>\n",
       "      <td>0.000000</td>\n",
       "      <td>-1</td>\n",
       "      <td>-1</td>\n",
       "      <td>-1</td>\n",
       "      <td>0.000000e+00</td>\n",
       "      <td>-1</td>\n",
       "    </tr>\n",
       "    <tr>\n",
       "      <th>25%</th>\n",
       "      <td>-1</td>\n",
       "      <td>-1</td>\n",
       "      <td>-1</td>\n",
       "      <td>80.000000</td>\n",
       "      <td>3.000000</td>\n",
       "      <td>1.000000</td>\n",
       "      <td>-1</td>\n",
       "      <td>-1</td>\n",
       "      <td>-1</td>\n",
       "      <td>4.909000e+04</td>\n",
       "      <td>-1</td>\n",
       "    </tr>\n",
       "    <tr>\n",
       "      <th>50%</th>\n",
       "      <td>-1</td>\n",
       "      <td>-1</td>\n",
       "      <td>-1</td>\n",
       "      <td>140.000000</td>\n",
       "      <td>3.000000</td>\n",
       "      <td>2.000000</td>\n",
       "      <td>-1</td>\n",
       "      <td>-1</td>\n",
       "      <td>-1</td>\n",
       "      <td>1.570000e+05</td>\n",
       "      <td>-1</td>\n",
       "    </tr>\n",
       "    <tr>\n",
       "      <th>75%</th>\n",
       "      <td>-1</td>\n",
       "      <td>-1</td>\n",
       "      <td>-1</td>\n",
       "      <td>240.000000</td>\n",
       "      <td>4.000000</td>\n",
       "      <td>3.000000</td>\n",
       "      <td>-1</td>\n",
       "      <td>-1</td>\n",
       "      <td>-1</td>\n",
       "      <td>2.888750e+05</td>\n",
       "      <td>-1</td>\n",
       "    </tr>\n",
       "    <tr>\n",
       "      <th>max</th>\n",
       "      <td>-1</td>\n",
       "      <td>-1</td>\n",
       "      <td>-1</td>\n",
       "      <td>980000.000000</td>\n",
       "      <td>20.000000</td>\n",
       "      <td>10.000000</td>\n",
       "      <td>-1</td>\n",
       "      <td>-1</td>\n",
       "      <td>-1</td>\n",
       "      <td>3.900000e+06</td>\n",
       "      <td>-1</td>\n",
       "    </tr>\n",
       "  </tbody>\n",
       "</table>\n",
       "</div>"
      ],
      "text/plain": [
       "        idproperty   province        municipality        surface        rooms  \\\n",
       "count         1208       1208                1208    1208.000000  1208.000000   \n",
       "unique         904          4                 365      -1.000000    -1.000000   \n",
       "top     jyidsvhzha  Barcelona   Tarragona Capital      -1.000000    -1.000000   \n",
       "freq            10        410                  29      -1.000000    -1.000000   \n",
       "mean            -1         -1                  -1    1272.086921     3.491722   \n",
       "std             -1         -1                  -1   29115.113512     1.600517   \n",
       "min             -1         -1                  -1       0.000000     0.000000   \n",
       "25%             -1         -1                  -1      80.000000     3.000000   \n",
       "50%             -1         -1                  -1     140.000000     3.000000   \n",
       "75%             -1         -1                  -1     240.000000     4.000000   \n",
       "max             -1         -1                  -1  980000.000000    20.000000   \n",
       "\n",
       "              baths property_type property_subtype transacion_type  \\\n",
       "count   1208.000000          1208             1208            1208   \n",
       "unique    -1.000000             1               10               4   \n",
       "top       -1.000000      Vivienda      Casa-Chalet            Sell   \n",
       "freq      -1.000000          1208              367             923   \n",
       "mean       2.047185            -1               -1              -1   \n",
       "std        1.198698            -1               -1              -1   \n",
       "min        0.000000            -1               -1              -1   \n",
       "25%        1.000000            -1               -1              -1   \n",
       "50%        2.000000            -1               -1              -1   \n",
       "75%        3.000000            -1               -1              -1   \n",
       "max       10.000000            -1               -1              -1   \n",
       "\n",
       "               price description  \n",
       "count   1.208000e+03        1208  \n",
       "unique -1.000000e+00         894  \n",
       "top    -1.000000e+00              \n",
       "freq   -1.000000e+00          65  \n",
       "mean    2.386080e+05          -1  \n",
       "std     3.462939e+05          -1  \n",
       "min     0.000000e+00          -1  \n",
       "25%     4.909000e+04          -1  \n",
       "50%     1.570000e+05          -1  \n",
       "75%     2.888750e+05          -1  \n",
       "max     3.900000e+06          -1  "
      ]
     },
     "execution_count": 7,
     "metadata": {},
     "output_type": "execute_result"
    }
   ],
   "source": [
    "df_fotocasa.describe(include='all').fillna(-1)"
   ]
  },
  {
   "cell_type": "markdown",
   "metadata": {},
   "source": [
    "### Adevinta: Dataset missing values and duplicates"
   ]
  },
  {
   "cell_type": "markdown",
   "metadata": {},
   "source": [
    "**missing values**"
   ]
  },
  {
   "cell_type": "code",
   "execution_count": 8,
   "metadata": {},
   "outputs": [
    {
     "data": {
      "text/plain": [
       "idproperty          0\n",
       "province            0\n",
       "municipality        0\n",
       "surface             0\n",
       "rooms               0\n",
       "baths               0\n",
       "property_type       0\n",
       "property_subtype    0\n",
       "transacion_type     0\n",
       "price               0\n",
       "description         0\n",
       "dtype: int64"
      ]
     },
     "execution_count": 8,
     "metadata": {},
     "output_type": "execute_result"
    }
   ],
   "source": [
    "df_fotocasa.isna().sum()"
   ]
  },
  {
   "cell_type": "markdown",
   "metadata": {},
   "source": [
    "**duplicates and zero observations in price**\n",
    "\n",
    "Resolving duplicates we've selected the max price of the different observations."
   ]
  },
  {
   "cell_type": "code",
   "execution_count": 9,
   "metadata": {},
   "outputs": [
    {
     "data": {
      "text/html": [
       "<div>\n",
       "<style scoped>\n",
       "    .dataframe tbody tr th:only-of-type {\n",
       "        vertical-align: middle;\n",
       "    }\n",
       "\n",
       "    .dataframe tbody tr th {\n",
       "        vertical-align: top;\n",
       "    }\n",
       "\n",
       "    .dataframe thead th {\n",
       "        text-align: right;\n",
       "    }\n",
       "</style>\n",
       "<table border=\"1\" class=\"dataframe\">\n",
       "  <thead>\n",
       "    <tr style=\"text-align: right;\">\n",
       "      <th></th>\n",
       "      <th>idproperty</th>\n",
       "      <th>price</th>\n",
       "    </tr>\n",
       "    <tr>\n",
       "      <th>transacion_type</th>\n",
       "      <th></th>\n",
       "      <th></th>\n",
       "    </tr>\n",
       "  </thead>\n",
       "  <tbody>\n",
       "    <tr>\n",
       "      <th>Added in Olap</th>\n",
       "      <td>28</td>\n",
       "      <td>971.774194</td>\n",
       "    </tr>\n",
       "    <tr>\n",
       "      <th>Rent</th>\n",
       "      <td>176</td>\n",
       "      <td>4835.574297</td>\n",
       "    </tr>\n",
       "    <tr>\n",
       "      <th>Sell</th>\n",
       "      <td>880</td>\n",
       "      <td>310944.378115</td>\n",
       "    </tr>\n",
       "    <tr>\n",
       "      <th>Share</th>\n",
       "      <td>5</td>\n",
       "      <td>528.000000</td>\n",
       "    </tr>\n",
       "  </tbody>\n",
       "</table>\n",
       "</div>"
      ],
      "text/plain": [
       "                 idproperty          price\n",
       "transacion_type                           \n",
       "Added in Olap            28     971.774194\n",
       "Rent                    176    4835.574297\n",
       "Sell                    880  310944.378115\n",
       "Share                     5     528.000000"
      ]
     },
     "execution_count": 9,
     "metadata": {},
     "output_type": "execute_result"
    }
   ],
   "source": [
    "df_fotocasa[[\"idproperty\",\"transacion_type\",\"price\"]]\\\n",
    "    .groupby([\"transacion_type\"]).agg({\n",
    "        'idproperty': pd.Series.nunique,\n",
    "        'price': 'mean'\n",
    "    })"
   ]
  },
  {
   "cell_type": "code",
   "execution_count": 11,
   "metadata": {},
   "outputs": [],
   "source": [
    "cols = ['idproperty', 'province', 'municipality', 'surface', 'rooms', 'baths', 'property_subtype', 'price']"
   ]
  },
  {
   "cell_type": "code",
   "execution_count": 12,
   "metadata": {},
   "outputs": [
    {
     "data": {
      "text/html": [
       "<div>\n",
       "<style scoped>\n",
       "    .dataframe tbody tr th:only-of-type {\n",
       "        vertical-align: middle;\n",
       "    }\n",
       "\n",
       "    .dataframe tbody tr th {\n",
       "        vertical-align: top;\n",
       "    }\n",
       "\n",
       "    .dataframe thead th {\n",
       "        text-align: right;\n",
       "    }\n",
       "</style>\n",
       "<table border=\"1\" class=\"dataframe\">\n",
       "  <thead>\n",
       "    <tr style=\"text-align: right;\">\n",
       "      <th></th>\n",
       "      <th>idproperty</th>\n",
       "      <th>province</th>\n",
       "      <th>municipality</th>\n",
       "      <th>surface</th>\n",
       "      <th>rooms</th>\n",
       "      <th>baths</th>\n",
       "      <th>property_subtype</th>\n",
       "      <th>price</th>\n",
       "    </tr>\n",
       "  </thead>\n",
       "  <tbody>\n",
       "    <tr>\n",
       "      <th>0</th>\n",
       "      <td>qkgdhixsul</td>\n",
       "      <td>Girona</td>\n",
       "      <td>Castell-Platja d'Aro</td>\n",
       "      <td>60</td>\n",
       "      <td>2</td>\n",
       "      <td>1</td>\n",
       "      <td>Apartamento</td>\n",
       "      <td>178000.0</td>\n",
       "    </tr>\n",
       "    <tr>\n",
       "      <th>1</th>\n",
       "      <td>swigwvclxz</td>\n",
       "      <td>Barcelona</td>\n",
       "      <td>Vilanova i la Geltrú</td>\n",
       "      <td>197</td>\n",
       "      <td>4</td>\n",
       "      <td>2</td>\n",
       "      <td>Casa-Chalet</td>\n",
       "      <td>345000.0</td>\n",
       "    </tr>\n",
       "    <tr>\n",
       "      <th>2</th>\n",
       "      <td>bfvgsrcdoj</td>\n",
       "      <td>Lleida</td>\n",
       "      <td>Fondarella</td>\n",
       "      <td>375</td>\n",
       "      <td>5</td>\n",
       "      <td>3</td>\n",
       "      <td>Casa-Chalet</td>\n",
       "      <td>180000.0</td>\n",
       "    </tr>\n",
       "    <tr>\n",
       "      <th>3</th>\n",
       "      <td>tsracvmevc</td>\n",
       "      <td>Girona</td>\n",
       "      <td>Girona Capital</td>\n",
       "      <td>89</td>\n",
       "      <td>4</td>\n",
       "      <td>2</td>\n",
       "      <td>Piso</td>\n",
       "      <td>187000.0</td>\n",
       "    </tr>\n",
       "    <tr>\n",
       "      <th>4</th>\n",
       "      <td>biayppbmen</td>\n",
       "      <td>Barcelona</td>\n",
       "      <td>Manresa</td>\n",
       "      <td>180</td>\n",
       "      <td>6</td>\n",
       "      <td>1</td>\n",
       "      <td>Piso</td>\n",
       "      <td>350000.0</td>\n",
       "    </tr>\n",
       "  </tbody>\n",
       "</table>\n",
       "</div>"
      ],
      "text/plain": [
       "   idproperty   province          municipality  surface  rooms  baths  \\\n",
       "0  qkgdhixsul     Girona  Castell-Platja d'Aro       60      2      1   \n",
       "1  swigwvclxz  Barcelona  Vilanova i la Geltrú      197      4      2   \n",
       "2  bfvgsrcdoj     Lleida            Fondarella      375      5      3   \n",
       "3  tsracvmevc     Girona        Girona Capital       89      4      2   \n",
       "4  biayppbmen  Barcelona               Manresa      180      6      1   \n",
       "\n",
       "  property_subtype     price  \n",
       "0      Apartamento  178000.0  \n",
       "1      Casa-Chalet  345000.0  \n",
       "2      Casa-Chalet  180000.0  \n",
       "3             Piso  187000.0  \n",
       "4             Piso  350000.0  "
      ]
     },
     "execution_count": 12,
     "metadata": {},
     "output_type": "execute_result"
    }
   ],
   "source": [
    "df_fotocasa_sell = df_fotocasa[cols][df_fotocasa.transacion_type == \"Sell\"].copy()\n",
    "df_fotocasa_sell.head()"
   ]
  },
  {
   "cell_type": "code",
   "execution_count": 13,
   "metadata": {},
   "outputs": [
    {
     "data": {
      "text/plain": [
       "(923, 8)"
      ]
     },
     "execution_count": 13,
     "metadata": {},
     "output_type": "execute_result"
    }
   ],
   "source": [
    "df_fotocasa_sell.shape"
   ]
  },
  {
   "cell_type": "code",
   "execution_count": 16,
   "metadata": {},
   "outputs": [
    {
     "data": {
      "text/plain": [
       "(880, 8)"
      ]
     },
     "execution_count": 16,
     "metadata": {},
     "output_type": "execute_result"
    }
   ],
   "source": [
    "df_fotocasa_sellmax = df_fotocasa_sell.groupby(cols[:-1]).max().reset_index()\n",
    "df_fotocasa_sellmax.shape"
   ]
  },
  {
   "cell_type": "code",
   "execution_count": 17,
   "metadata": {},
   "outputs": [
    {
     "data": {
      "text/html": [
       "<div>\n",
       "<style scoped>\n",
       "    .dataframe tbody tr th:only-of-type {\n",
       "        vertical-align: middle;\n",
       "    }\n",
       "\n",
       "    .dataframe tbody tr th {\n",
       "        vertical-align: top;\n",
       "    }\n",
       "\n",
       "    .dataframe thead th {\n",
       "        text-align: right;\n",
       "    }\n",
       "</style>\n",
       "<table border=\"1\" class=\"dataframe\">\n",
       "  <thead>\n",
       "    <tr style=\"text-align: right;\">\n",
       "      <th></th>\n",
       "      <th>idproperty</th>\n",
       "      <th>province</th>\n",
       "      <th>municipality</th>\n",
       "      <th>surface</th>\n",
       "      <th>rooms</th>\n",
       "      <th>baths</th>\n",
       "      <th>property_subtype</th>\n",
       "      <th>price</th>\n",
       "      <th>transacion_type</th>\n",
       "    </tr>\n",
       "  </thead>\n",
       "  <tbody>\n",
       "    <tr>\n",
       "      <th>327</th>\n",
       "      <td>dggkimsrvs</td>\n",
       "      <td>Barcelona</td>\n",
       "      <td>Cànoves I Samalús</td>\n",
       "      <td>420</td>\n",
       "      <td>5</td>\n",
       "      <td>4</td>\n",
       "      <td>Finca rústica</td>\n",
       "      <td>0.000000</td>\n",
       "      <td>Sell</td>\n",
       "    </tr>\n",
       "    <tr>\n",
       "      <th>718</th>\n",
       "      <td>dvtvzmbbbj</td>\n",
       "      <td>Tarragona</td>\n",
       "      <td>Tortosa</td>\n",
       "      <td>1350</td>\n",
       "      <td>10</td>\n",
       "      <td>7</td>\n",
       "      <td>Piso</td>\n",
       "      <td>0.000000</td>\n",
       "      <td>Sell</td>\n",
       "    </tr>\n",
       "    <tr>\n",
       "      <th>805</th>\n",
       "      <td>gditzgymnh</td>\n",
       "      <td>Barcelona</td>\n",
       "      <td>Vic</td>\n",
       "      <td>76</td>\n",
       "      <td>3</td>\n",
       "      <td>2</td>\n",
       "      <td>Piso</td>\n",
       "      <td>0.000000</td>\n",
       "      <td>Sell</td>\n",
       "    </tr>\n",
       "    <tr>\n",
       "      <th>813</th>\n",
       "      <td>gwvzyjlihr</td>\n",
       "      <td>Tarragona</td>\n",
       "      <td>Salou</td>\n",
       "      <td>60</td>\n",
       "      <td>2</td>\n",
       "      <td>1</td>\n",
       "      <td>Apartamento</td>\n",
       "      <td>0.000000</td>\n",
       "      <td>Sell</td>\n",
       "    </tr>\n",
       "    <tr>\n",
       "      <th>814</th>\n",
       "      <td>gwvzyjlihr</td>\n",
       "      <td>Tarragona</td>\n",
       "      <td>Salou</td>\n",
       "      <td>60</td>\n",
       "      <td>2</td>\n",
       "      <td>1</td>\n",
       "      <td>Apartamento</td>\n",
       "      <td>0.000000</td>\n",
       "      <td>Rent</td>\n",
       "    </tr>\n",
       "    <tr>\n",
       "      <th>815</th>\n",
       "      <td>gwvzyjlihr</td>\n",
       "      <td>Tarragona</td>\n",
       "      <td>Salou</td>\n",
       "      <td>60</td>\n",
       "      <td>2</td>\n",
       "      <td>1</td>\n",
       "      <td>Apartamento</td>\n",
       "      <td>85.714286</td>\n",
       "      <td>Rent</td>\n",
       "    </tr>\n",
       "    <tr>\n",
       "      <th>1097</th>\n",
       "      <td>tahcvjcapb</td>\n",
       "      <td>Lleida</td>\n",
       "      <td>Sant Esteve de la Sarga</td>\n",
       "      <td>0</td>\n",
       "      <td>2</td>\n",
       "      <td>1</td>\n",
       "      <td>Finca rústica</td>\n",
       "      <td>0.000000</td>\n",
       "      <td>Sell</td>\n",
       "    </tr>\n",
       "  </tbody>\n",
       "</table>\n",
       "</div>"
      ],
      "text/plain": [
       "      idproperty   province             municipality  surface  rooms  baths  \\\n",
       "327   dggkimsrvs  Barcelona        Cànoves I Samalús      420      5      4   \n",
       "718   dvtvzmbbbj  Tarragona                  Tortosa     1350     10      7   \n",
       "805   gditzgymnh  Barcelona                      Vic       76      3      2   \n",
       "813   gwvzyjlihr  Tarragona                    Salou       60      2      1   \n",
       "814   gwvzyjlihr  Tarragona                    Salou       60      2      1   \n",
       "815   gwvzyjlihr  Tarragona                    Salou       60      2      1   \n",
       "1097  tahcvjcapb     Lleida  Sant Esteve de la Sarga        0      2      1   \n",
       "\n",
       "     property_subtype      price transacion_type  \n",
       "327     Finca rústica   0.000000            Sell  \n",
       "718              Piso   0.000000            Sell  \n",
       "805              Piso   0.000000            Sell  \n",
       "813       Apartamento   0.000000            Sell  \n",
       "814       Apartamento   0.000000            Rent  \n",
       "815       Apartamento  85.714286            Rent  \n",
       "1097    Finca rústica   0.000000            Sell  "
      ]
     },
     "execution_count": 17,
     "metadata": {},
     "output_type": "execute_result"
    }
   ],
   "source": [
    "df_fotocasa[cols+[\"transacion_type\"]][df_fotocasa.idproperty.isin(\n",
    "    df_fotocasa_sellmax[df_fotocasa_sellmax.price <= 0.0].idproperty)]"
   ]
  },
  {
   "cell_type": "code",
   "execution_count": 18,
   "metadata": {},
   "outputs": [
    {
     "data": {
      "text/plain": [
       "(875, 8)"
      ]
     },
     "execution_count": 18,
     "metadata": {},
     "output_type": "execute_result"
    }
   ],
   "source": [
    "df_fotocasa_sellmax = df_fotocasa_sellmax[df_fotocasa_sellmax.price > 0.0].copy()\n",
    "df_fotocasa_sellmax.shape"
   ]
  },
  {
   "cell_type": "code",
   "execution_count": 14,
   "metadata": {},
   "outputs": [
    {
     "data": {
      "text/html": [
       "<div>\n",
       "<style scoped>\n",
       "    .dataframe tbody tr th:only-of-type {\n",
       "        vertical-align: middle;\n",
       "    }\n",
       "\n",
       "    .dataframe tbody tr th {\n",
       "        vertical-align: top;\n",
       "    }\n",
       "\n",
       "    .dataframe thead th {\n",
       "        text-align: right;\n",
       "    }\n",
       "</style>\n",
       "<table border=\"1\" class=\"dataframe\">\n",
       "  <thead>\n",
       "    <tr style=\"text-align: right;\">\n",
       "      <th></th>\n",
       "      <th>idproperty</th>\n",
       "      <th>province</th>\n",
       "      <th>municipality</th>\n",
       "      <th>surface</th>\n",
       "      <th>rooms</th>\n",
       "      <th>baths</th>\n",
       "      <th>property_subtype</th>\n",
       "      <th>price</th>\n",
       "    </tr>\n",
       "  </thead>\n",
       "  <tbody>\n",
       "    <tr>\n",
       "      <th>18</th>\n",
       "      <td>qfbfgxlvny</td>\n",
       "      <td>Girona</td>\n",
       "      <td>Palafrugell</td>\n",
       "      <td>64</td>\n",
       "      <td>2</td>\n",
       "      <td>1</td>\n",
       "      <td>Piso</td>\n",
       "      <td>0.0</td>\n",
       "    </tr>\n",
       "    <tr>\n",
       "      <th>23</th>\n",
       "      <td>wxmowdcmmi</td>\n",
       "      <td>Tarragona</td>\n",
       "      <td>Cunit</td>\n",
       "      <td>250</td>\n",
       "      <td>5</td>\n",
       "      <td>2</td>\n",
       "      <td>Casa-Chalet</td>\n",
       "      <td>1200.0</td>\n",
       "    </tr>\n",
       "    <tr>\n",
       "      <th>24</th>\n",
       "      <td>wxmowdcmmi</td>\n",
       "      <td>Tarragona</td>\n",
       "      <td>Cunit</td>\n",
       "      <td>250</td>\n",
       "      <td>5</td>\n",
       "      <td>2</td>\n",
       "      <td>Casa-Chalet</td>\n",
       "      <td>1400.0</td>\n",
       "    </tr>\n",
       "    <tr>\n",
       "      <th>27</th>\n",
       "      <td>nhubamixyx</td>\n",
       "      <td>Tarragona</td>\n",
       "      <td>Tarragona Capital</td>\n",
       "      <td>65</td>\n",
       "      <td>3</td>\n",
       "      <td>1</td>\n",
       "      <td>Piso</td>\n",
       "      <td>480.0</td>\n",
       "    </tr>\n",
       "    <tr>\n",
       "      <th>44</th>\n",
       "      <td>egrxdkzzxs</td>\n",
       "      <td>Girona</td>\n",
       "      <td>Anglès</td>\n",
       "      <td>193</td>\n",
       "      <td>4</td>\n",
       "      <td>3</td>\n",
       "      <td>Casa adosada</td>\n",
       "      <td>600.0</td>\n",
       "    </tr>\n",
       "  </tbody>\n",
       "</table>\n",
       "</div>"
      ],
      "text/plain": [
       "    idproperty   province        municipality  surface  rooms  baths  \\\n",
       "18  qfbfgxlvny     Girona         Palafrugell       64      2      1   \n",
       "23  wxmowdcmmi  Tarragona               Cunit      250      5      2   \n",
       "24  wxmowdcmmi  Tarragona               Cunit      250      5      2   \n",
       "27  nhubamixyx  Tarragona   Tarragona Capital       65      3      1   \n",
       "44  egrxdkzzxs     Girona              Anglès      193      4      3   \n",
       "\n",
       "   property_subtype   price  \n",
       "18             Piso     0.0  \n",
       "23      Casa-Chalet  1200.0  \n",
       "24      Casa-Chalet  1400.0  \n",
       "27             Piso   480.0  \n",
       "44     Casa adosada   600.0  "
      ]
     },
     "execution_count": 14,
     "metadata": {},
     "output_type": "execute_result"
    }
   ],
   "source": [
    "df_fotocasa_rent = df_fotocasa[cols][df_fotocasa.transacion_type == \"Rent\"].copy()\n",
    "df_fotocasa_rent.head()"
   ]
  },
  {
   "cell_type": "code",
   "execution_count": 15,
   "metadata": {},
   "outputs": [
    {
     "data": {
      "text/plain": [
       "(249, 8)"
      ]
     },
     "execution_count": 15,
     "metadata": {},
     "output_type": "execute_result"
    }
   ],
   "source": [
    "df_fotocasa_rent.shape"
   ]
  },
  {
   "cell_type": "code",
   "execution_count": 19,
   "metadata": {},
   "outputs": [
    {
     "data": {
      "text/plain": [
       "(176, 8)"
      ]
     },
     "execution_count": 19,
     "metadata": {},
     "output_type": "execute_result"
    }
   ],
   "source": [
    "df_fotocasa_rentmax = df_fotocasa_rent.groupby(cols[:-1]).max().reset_index()\n",
    "df_fotocasa_rentmax.shape"
   ]
  },
  {
   "cell_type": "code",
   "execution_count": 20,
   "metadata": {},
   "outputs": [
    {
     "data": {
      "text/html": [
       "<div>\n",
       "<style scoped>\n",
       "    .dataframe tbody tr th:only-of-type {\n",
       "        vertical-align: middle;\n",
       "    }\n",
       "\n",
       "    .dataframe tbody tr th {\n",
       "        vertical-align: top;\n",
       "    }\n",
       "\n",
       "    .dataframe thead th {\n",
       "        text-align: right;\n",
       "    }\n",
       "</style>\n",
       "<table border=\"1\" class=\"dataframe\">\n",
       "  <thead>\n",
       "    <tr style=\"text-align: right;\">\n",
       "      <th></th>\n",
       "      <th>idproperty</th>\n",
       "      <th>province</th>\n",
       "      <th>municipality</th>\n",
       "      <th>surface</th>\n",
       "      <th>rooms</th>\n",
       "      <th>baths</th>\n",
       "      <th>property_subtype</th>\n",
       "      <th>price</th>\n",
       "      <th>transacion_type</th>\n",
       "    </tr>\n",
       "  </thead>\n",
       "  <tbody>\n",
       "    <tr>\n",
       "      <th>17</th>\n",
       "      <td>qfbfgxlvny</td>\n",
       "      <td>Girona</td>\n",
       "      <td>Palafrugell</td>\n",
       "      <td>64</td>\n",
       "      <td>2</td>\n",
       "      <td>1</td>\n",
       "      <td>Piso</td>\n",
       "      <td>140000.0</td>\n",
       "      <td>Sell</td>\n",
       "    </tr>\n",
       "    <tr>\n",
       "      <th>18</th>\n",
       "      <td>qfbfgxlvny</td>\n",
       "      <td>Girona</td>\n",
       "      <td>Palafrugell</td>\n",
       "      <td>64</td>\n",
       "      <td>2</td>\n",
       "      <td>1</td>\n",
       "      <td>Piso</td>\n",
       "      <td>0.0</td>\n",
       "      <td>Rent</td>\n",
       "    </tr>\n",
       "    <tr>\n",
       "      <th>19</th>\n",
       "      <td>qfbfgxlvny</td>\n",
       "      <td>Girona</td>\n",
       "      <td>Palafrugell</td>\n",
       "      <td>64</td>\n",
       "      <td>2</td>\n",
       "      <td>1</td>\n",
       "      <td>Piso</td>\n",
       "      <td>500.0</td>\n",
       "      <td>Added in Olap</td>\n",
       "    </tr>\n",
       "    <tr>\n",
       "      <th>163</th>\n",
       "      <td>ficxqwjpln</td>\n",
       "      <td>Barcelona</td>\n",
       "      <td>Castellnou de Bages</td>\n",
       "      <td>372</td>\n",
       "      <td>6</td>\n",
       "      <td>2</td>\n",
       "      <td>Casa-Chalet</td>\n",
       "      <td>825000.0</td>\n",
       "      <td>Sell</td>\n",
       "    </tr>\n",
       "    <tr>\n",
       "      <th>164</th>\n",
       "      <td>ficxqwjpln</td>\n",
       "      <td>Barcelona</td>\n",
       "      <td>Castellnou de Bages</td>\n",
       "      <td>372</td>\n",
       "      <td>6</td>\n",
       "      <td>2</td>\n",
       "      <td>Casa-Chalet</td>\n",
       "      <td>0.0</td>\n",
       "      <td>Rent</td>\n",
       "    </tr>\n",
       "    <tr>\n",
       "      <th>262</th>\n",
       "      <td>pmsihtciwj</td>\n",
       "      <td>Lleida</td>\n",
       "      <td>Camarasa</td>\n",
       "      <td>51</td>\n",
       "      <td>3</td>\n",
       "      <td>1</td>\n",
       "      <td>Finca rústica</td>\n",
       "      <td>80000.0</td>\n",
       "      <td>Sell</td>\n",
       "    </tr>\n",
       "    <tr>\n",
       "      <th>263</th>\n",
       "      <td>pmsihtciwj</td>\n",
       "      <td>Lleida</td>\n",
       "      <td>Camarasa</td>\n",
       "      <td>51</td>\n",
       "      <td>3</td>\n",
       "      <td>1</td>\n",
       "      <td>Finca rústica</td>\n",
       "      <td>0.0</td>\n",
       "      <td>Rent</td>\n",
       "    </tr>\n",
       "    <tr>\n",
       "      <th>421</th>\n",
       "      <td>wclkpmeyoh</td>\n",
       "      <td>Tarragona</td>\n",
       "      <td>Sant Carles de la Ràpita</td>\n",
       "      <td>68</td>\n",
       "      <td>2</td>\n",
       "      <td>1</td>\n",
       "      <td>Apartamento</td>\n",
       "      <td>69000.0</td>\n",
       "      <td>Sell</td>\n",
       "    </tr>\n",
       "    <tr>\n",
       "      <th>422</th>\n",
       "      <td>wclkpmeyoh</td>\n",
       "      <td>Tarragona</td>\n",
       "      <td>Sant Carles de la Ràpita</td>\n",
       "      <td>68</td>\n",
       "      <td>2</td>\n",
       "      <td>1</td>\n",
       "      <td>Apartamento</td>\n",
       "      <td>0.0</td>\n",
       "      <td>Rent</td>\n",
       "    </tr>\n",
       "    <tr>\n",
       "      <th>527</th>\n",
       "      <td>fxkfyhixdw</td>\n",
       "      <td>Tarragona</td>\n",
       "      <td>Amposta</td>\n",
       "      <td>116</td>\n",
       "      <td>2</td>\n",
       "      <td>1</td>\n",
       "      <td>Apartamento</td>\n",
       "      <td>79000.0</td>\n",
       "      <td>Sell</td>\n",
       "    </tr>\n",
       "    <tr>\n",
       "      <th>528</th>\n",
       "      <td>fxkfyhixdw</td>\n",
       "      <td>Tarragona</td>\n",
       "      <td>Amposta</td>\n",
       "      <td>116</td>\n",
       "      <td>2</td>\n",
       "      <td>1</td>\n",
       "      <td>Apartamento</td>\n",
       "      <td>0.0</td>\n",
       "      <td>Rent</td>\n",
       "    </tr>\n",
       "    <tr>\n",
       "      <th>550</th>\n",
       "      <td>zjzgtitxxm</td>\n",
       "      <td>Tarragona</td>\n",
       "      <td>Sant Carles de la Ràpita</td>\n",
       "      <td>55</td>\n",
       "      <td>2</td>\n",
       "      <td>1</td>\n",
       "      <td>Apartamento</td>\n",
       "      <td>145000.0</td>\n",
       "      <td>Sell</td>\n",
       "    </tr>\n",
       "    <tr>\n",
       "      <th>551</th>\n",
       "      <td>zjzgtitxxm</td>\n",
       "      <td>Tarragona</td>\n",
       "      <td>Sant Carles de la Ràpita</td>\n",
       "      <td>55</td>\n",
       "      <td>2</td>\n",
       "      <td>1</td>\n",
       "      <td>Apartamento</td>\n",
       "      <td>0.0</td>\n",
       "      <td>Rent</td>\n",
       "    </tr>\n",
       "    <tr>\n",
       "      <th>656</th>\n",
       "      <td>fyvyxxmlqt</td>\n",
       "      <td>Lleida</td>\n",
       "      <td>Lleida Capital</td>\n",
       "      <td>370</td>\n",
       "      <td>5</td>\n",
       "      <td>3</td>\n",
       "      <td>Casa-Chalet</td>\n",
       "      <td>360000.0</td>\n",
       "      <td>Sell</td>\n",
       "    </tr>\n",
       "    <tr>\n",
       "      <th>657</th>\n",
       "      <td>fyvyxxmlqt</td>\n",
       "      <td>Lleida</td>\n",
       "      <td>Lleida Capital</td>\n",
       "      <td>370</td>\n",
       "      <td>5</td>\n",
       "      <td>3</td>\n",
       "      <td>Casa-Chalet</td>\n",
       "      <td>0.0</td>\n",
       "      <td>Rent</td>\n",
       "    </tr>\n",
       "    <tr>\n",
       "      <th>691</th>\n",
       "      <td>ckgbqambku</td>\n",
       "      <td>Lleida</td>\n",
       "      <td>Gavet de la Conca</td>\n",
       "      <td>250</td>\n",
       "      <td>4</td>\n",
       "      <td>2</td>\n",
       "      <td>Casa-Chalet</td>\n",
       "      <td>175000.0</td>\n",
       "      <td>Sell</td>\n",
       "    </tr>\n",
       "    <tr>\n",
       "      <th>692</th>\n",
       "      <td>ckgbqambku</td>\n",
       "      <td>Lleida</td>\n",
       "      <td>Gavet de la Conca</td>\n",
       "      <td>250</td>\n",
       "      <td>4</td>\n",
       "      <td>2</td>\n",
       "      <td>Casa-Chalet</td>\n",
       "      <td>0.0</td>\n",
       "      <td>Rent</td>\n",
       "    </tr>\n",
       "    <tr>\n",
       "      <th>774</th>\n",
       "      <td>cblzoisyoz</td>\n",
       "      <td>Barcelona</td>\n",
       "      <td>Cubelles</td>\n",
       "      <td>200</td>\n",
       "      <td>4</td>\n",
       "      <td>3</td>\n",
       "      <td>Casa adosada</td>\n",
       "      <td>298000.0</td>\n",
       "      <td>Sell</td>\n",
       "    </tr>\n",
       "    <tr>\n",
       "      <th>775</th>\n",
       "      <td>cblzoisyoz</td>\n",
       "      <td>Barcelona</td>\n",
       "      <td>Cubelles</td>\n",
       "      <td>200</td>\n",
       "      <td>4</td>\n",
       "      <td>3</td>\n",
       "      <td>Casa adosada</td>\n",
       "      <td>0.0</td>\n",
       "      <td>Rent</td>\n",
       "    </tr>\n",
       "    <tr>\n",
       "      <th>819</th>\n",
       "      <td>aroavwxdgo</td>\n",
       "      <td>Tarragona</td>\n",
       "      <td>Salou</td>\n",
       "      <td>100</td>\n",
       "      <td>3</td>\n",
       "      <td>2</td>\n",
       "      <td>Piso</td>\n",
       "      <td>198000.0</td>\n",
       "      <td>Sell</td>\n",
       "    </tr>\n",
       "    <tr>\n",
       "      <th>820</th>\n",
       "      <td>aroavwxdgo</td>\n",
       "      <td>Tarragona</td>\n",
       "      <td>Salou</td>\n",
       "      <td>100</td>\n",
       "      <td>3</td>\n",
       "      <td>2</td>\n",
       "      <td>Piso</td>\n",
       "      <td>0.0</td>\n",
       "      <td>Rent</td>\n",
       "    </tr>\n",
       "    <tr>\n",
       "      <th>947</th>\n",
       "      <td>angrgulcdp</td>\n",
       "      <td>Girona</td>\n",
       "      <td>Alp</td>\n",
       "      <td>40</td>\n",
       "      <td>1</td>\n",
       "      <td>1</td>\n",
       "      <td>Apartamento</td>\n",
       "      <td>128000.0</td>\n",
       "      <td>Sell</td>\n",
       "    </tr>\n",
       "    <tr>\n",
       "      <th>948</th>\n",
       "      <td>angrgulcdp</td>\n",
       "      <td>Girona</td>\n",
       "      <td>Alp</td>\n",
       "      <td>40</td>\n",
       "      <td>1</td>\n",
       "      <td>1</td>\n",
       "      <td>Apartamento</td>\n",
       "      <td>0.0</td>\n",
       "      <td>Rent</td>\n",
       "    </tr>\n",
       "    <tr>\n",
       "      <th>949</th>\n",
       "      <td>angrgulcdp</td>\n",
       "      <td>Girona</td>\n",
       "      <td>Alp</td>\n",
       "      <td>40</td>\n",
       "      <td>1</td>\n",
       "      <td>1</td>\n",
       "      <td>Apartamento</td>\n",
       "      <td>450.0</td>\n",
       "      <td>Added in Olap</td>\n",
       "    </tr>\n",
       "    <tr>\n",
       "      <th>1028</th>\n",
       "      <td>timfqdakkd</td>\n",
       "      <td>Barcelona</td>\n",
       "      <td>Moià</td>\n",
       "      <td>481</td>\n",
       "      <td>5</td>\n",
       "      <td>5</td>\n",
       "      <td>Casa-Chalet</td>\n",
       "      <td>721000.0</td>\n",
       "      <td>Sell</td>\n",
       "    </tr>\n",
       "    <tr>\n",
       "      <th>1029</th>\n",
       "      <td>timfqdakkd</td>\n",
       "      <td>Barcelona</td>\n",
       "      <td>Moià</td>\n",
       "      <td>481</td>\n",
       "      <td>5</td>\n",
       "      <td>5</td>\n",
       "      <td>Casa-Chalet</td>\n",
       "      <td>0.0</td>\n",
       "      <td>Rent</td>\n",
       "    </tr>\n",
       "    <tr>\n",
       "      <th>1049</th>\n",
       "      <td>asnvfuwtaa</td>\n",
       "      <td>Tarragona</td>\n",
       "      <td>Calafell</td>\n",
       "      <td>220</td>\n",
       "      <td>4</td>\n",
       "      <td>3</td>\n",
       "      <td>Casa-Chalet</td>\n",
       "      <td>200000.0</td>\n",
       "      <td>Sell</td>\n",
       "    </tr>\n",
       "    <tr>\n",
       "      <th>1050</th>\n",
       "      <td>asnvfuwtaa</td>\n",
       "      <td>Tarragona</td>\n",
       "      <td>Calafell</td>\n",
       "      <td>220</td>\n",
       "      <td>4</td>\n",
       "      <td>3</td>\n",
       "      <td>Casa-Chalet</td>\n",
       "      <td>0.0</td>\n",
       "      <td>Rent</td>\n",
       "    </tr>\n",
       "    <tr>\n",
       "      <th>1132</th>\n",
       "      <td>mrmjthcwpb</td>\n",
       "      <td>Barcelona</td>\n",
       "      <td>Moià</td>\n",
       "      <td>355</td>\n",
       "      <td>4</td>\n",
       "      <td>4</td>\n",
       "      <td>Casa-Chalet</td>\n",
       "      <td>295000.0</td>\n",
       "      <td>Sell</td>\n",
       "    </tr>\n",
       "    <tr>\n",
       "      <th>1133</th>\n",
       "      <td>mrmjthcwpb</td>\n",
       "      <td>Barcelona</td>\n",
       "      <td>Moià</td>\n",
       "      <td>355</td>\n",
       "      <td>4</td>\n",
       "      <td>4</td>\n",
       "      <td>Casa-Chalet</td>\n",
       "      <td>0.0</td>\n",
       "      <td>Rent</td>\n",
       "    </tr>\n",
       "    <tr>\n",
       "      <th>1149</th>\n",
       "      <td>wdmazvitfc</td>\n",
       "      <td>Barcelona</td>\n",
       "      <td>Barcelona Capital</td>\n",
       "      <td>63</td>\n",
       "      <td>3</td>\n",
       "      <td>1</td>\n",
       "      <td>Piso</td>\n",
       "      <td>150000.0</td>\n",
       "      <td>Sell</td>\n",
       "    </tr>\n",
       "    <tr>\n",
       "      <th>1150</th>\n",
       "      <td>wdmazvitfc</td>\n",
       "      <td>Barcelona</td>\n",
       "      <td>Barcelona Capital</td>\n",
       "      <td>63</td>\n",
       "      <td>3</td>\n",
       "      <td>1</td>\n",
       "      <td>Piso</td>\n",
       "      <td>0.0</td>\n",
       "      <td>Rent</td>\n",
       "    </tr>\n",
       "  </tbody>\n",
       "</table>\n",
       "</div>"
      ],
      "text/plain": [
       "      idproperty   province              municipality  surface  rooms  baths  \\\n",
       "17    qfbfgxlvny     Girona               Palafrugell       64      2      1   \n",
       "18    qfbfgxlvny     Girona               Palafrugell       64      2      1   \n",
       "19    qfbfgxlvny     Girona               Palafrugell       64      2      1   \n",
       "163   ficxqwjpln  Barcelona       Castellnou de Bages      372      6      2   \n",
       "164   ficxqwjpln  Barcelona       Castellnou de Bages      372      6      2   \n",
       "262   pmsihtciwj     Lleida                  Camarasa       51      3      1   \n",
       "263   pmsihtciwj     Lleida                  Camarasa       51      3      1   \n",
       "421   wclkpmeyoh  Tarragona  Sant Carles de la Ràpita       68      2      1   \n",
       "422   wclkpmeyoh  Tarragona  Sant Carles de la Ràpita       68      2      1   \n",
       "527   fxkfyhixdw  Tarragona                   Amposta      116      2      1   \n",
       "528   fxkfyhixdw  Tarragona                   Amposta      116      2      1   \n",
       "550   zjzgtitxxm  Tarragona  Sant Carles de la Ràpita       55      2      1   \n",
       "551   zjzgtitxxm  Tarragona  Sant Carles de la Ràpita       55      2      1   \n",
       "656   fyvyxxmlqt     Lleida            Lleida Capital      370      5      3   \n",
       "657   fyvyxxmlqt     Lleida            Lleida Capital      370      5      3   \n",
       "691   ckgbqambku     Lleida         Gavet de la Conca      250      4      2   \n",
       "692   ckgbqambku     Lleida         Gavet de la Conca      250      4      2   \n",
       "774   cblzoisyoz  Barcelona                  Cubelles      200      4      3   \n",
       "775   cblzoisyoz  Barcelona                  Cubelles      200      4      3   \n",
       "819   aroavwxdgo  Tarragona                     Salou      100      3      2   \n",
       "820   aroavwxdgo  Tarragona                     Salou      100      3      2   \n",
       "947   angrgulcdp     Girona                       Alp       40      1      1   \n",
       "948   angrgulcdp     Girona                       Alp       40      1      1   \n",
       "949   angrgulcdp     Girona                       Alp       40      1      1   \n",
       "1028  timfqdakkd  Barcelona                      Moià      481      5      5   \n",
       "1029  timfqdakkd  Barcelona                      Moià      481      5      5   \n",
       "1049  asnvfuwtaa  Tarragona                  Calafell      220      4      3   \n",
       "1050  asnvfuwtaa  Tarragona                  Calafell      220      4      3   \n",
       "1132  mrmjthcwpb  Barcelona                      Moià      355      4      4   \n",
       "1133  mrmjthcwpb  Barcelona                      Moià      355      4      4   \n",
       "1149  wdmazvitfc  Barcelona         Barcelona Capital       63      3      1   \n",
       "1150  wdmazvitfc  Barcelona         Barcelona Capital       63      3      1   \n",
       "\n",
       "     property_subtype     price transacion_type  \n",
       "17               Piso  140000.0            Sell  \n",
       "18               Piso       0.0            Rent  \n",
       "19               Piso     500.0   Added in Olap  \n",
       "163       Casa-Chalet  825000.0            Sell  \n",
       "164       Casa-Chalet       0.0            Rent  \n",
       "262     Finca rústica   80000.0            Sell  \n",
       "263     Finca rústica       0.0            Rent  \n",
       "421       Apartamento   69000.0            Sell  \n",
       "422       Apartamento       0.0            Rent  \n",
       "527       Apartamento   79000.0            Sell  \n",
       "528       Apartamento       0.0            Rent  \n",
       "550       Apartamento  145000.0            Sell  \n",
       "551       Apartamento       0.0            Rent  \n",
       "656       Casa-Chalet  360000.0            Sell  \n",
       "657       Casa-Chalet       0.0            Rent  \n",
       "691       Casa-Chalet  175000.0            Sell  \n",
       "692       Casa-Chalet       0.0            Rent  \n",
       "774      Casa adosada  298000.0            Sell  \n",
       "775      Casa adosada       0.0            Rent  \n",
       "819              Piso  198000.0            Sell  \n",
       "820              Piso       0.0            Rent  \n",
       "947       Apartamento  128000.0            Sell  \n",
       "948       Apartamento       0.0            Rent  \n",
       "949       Apartamento     450.0   Added in Olap  \n",
       "1028      Casa-Chalet  721000.0            Sell  \n",
       "1029      Casa-Chalet       0.0            Rent  \n",
       "1049      Casa-Chalet  200000.0            Sell  \n",
       "1050      Casa-Chalet       0.0            Rent  \n",
       "1132      Casa-Chalet  295000.0            Sell  \n",
       "1133      Casa-Chalet       0.0            Rent  \n",
       "1149             Piso  150000.0            Sell  \n",
       "1150             Piso       0.0            Rent  "
      ]
     },
     "execution_count": 20,
     "metadata": {},
     "output_type": "execute_result"
    }
   ],
   "source": [
    "df_fotocasa[cols+[\"transacion_type\"]][df_fotocasa.idproperty.isin(\n",
    "    df_fotocasa_rentmax[df_fotocasa_rentmax.price <= 0.0].idproperty)]"
   ]
  },
  {
   "cell_type": "code",
   "execution_count": 21,
   "metadata": {},
   "outputs": [
    {
     "data": {
      "text/plain": [
       "(161, 8)"
      ]
     },
     "execution_count": 21,
     "metadata": {},
     "output_type": "execute_result"
    }
   ],
   "source": [
    "df_fotocasa_rentmax = df_fotocasa_rentmax[df_fotocasa_rentmax.price > 0.0].copy()\n",
    "df_fotocasa_rentmax.shape"
   ]
  },
  {
   "cell_type": "code",
   "execution_count": 23,
   "metadata": {},
   "outputs": [],
   "source": [
    "df_fotocasa.to_pickle(\"./data/df_fotocasa.pkl\")"
   ]
  },
  {
   "cell_type": "code",
   "execution_count": 37,
   "metadata": {},
   "outputs": [],
   "source": [
    "df_fotocasa_sellmax.to_pickle(\"./data/df_fotocasa_sell.pkl\")"
   ]
  },
  {
   "cell_type": "code",
   "execution_count": 39,
   "metadata": {},
   "outputs": [],
   "source": [
    "df_fotocasa_sel = pd.read_pickle(\"./data/df_fotocasa_sell.pkl\")"
   ]
  },
  {
   "cell_type": "code",
   "execution_count": 38,
   "metadata": {},
   "outputs": [],
   "source": [
    "df_fotocasa_rentmax.to_pickle(\"./data/df_fotocasa_rent.pkl\")"
   ]
  },
  {
   "cell_type": "code",
   "execution_count": 40,
   "metadata": {},
   "outputs": [],
   "source": [
    "df_fotocasa_rent = pd.read_pickle(\"./data/df_fotocasa_rent.pkl\")"
   ]
  },
  {
   "cell_type": "markdown",
   "metadata": {},
   "source": [
    "## Adevinta: Features exploratory analysis"
   ]
  },
  {
   "cell_type": "markdown",
   "metadata": {},
   "source": [
    "### Adevinta: Features: Numerical"
   ]
  },
  {
   "cell_type": "markdown",
   "metadata": {},
   "source": [
    "The Mann-Whitney U test is a nonparametric statistical significance test for determining whether two independent samples were drawn from a population with the same distribution."
   ]
  },
  {
   "cell_type": "code",
   "execution_count": 56,
   "metadata": {},
   "outputs": [],
   "source": [
    "def mann_wihitney(data1, data2):\n",
    "    # Mann-Whitney U test (non-parametric test)\n",
    "    # compare samples\n",
    "    stat, p = mannwhitneyu(data1, data2)\n",
    "    print('Statistics=%.3f, p=%.3f' % (stat, p))\n",
    "    # interpret\n",
    "    alpha = 0.05\n",
    "    if p > alpha:\n",
    "        print('Same distribution (fail to reject H0)')\n",
    "    else:\n",
    "        print('Different distribution (reject H0)')"
   ]
  },
  {
   "cell_type": "markdown",
   "metadata": {},
   "source": [
    "**surface**"
   ]
  },
  {
   "cell_type": "code",
   "execution_count": 26,
   "metadata": {},
   "outputs": [
    {
     "data": {
      "text/plain": [
       "count      1208.000000\n",
       "mean       1272.086921\n",
       "std       29115.113512\n",
       "min           0.000000\n",
       "25%          80.000000\n",
       "50%         140.000000\n",
       "75%         240.000000\n",
       "max      980000.000000\n",
       "Name: surface, dtype: float64"
      ]
     },
     "execution_count": 26,
     "metadata": {},
     "output_type": "execute_result"
    }
   ],
   "source": [
    "df_fotocasa.surface.describe()"
   ]
  },
  {
   "cell_type": "code",
   "execution_count": 27,
   "metadata": {},
   "outputs": [
    {
     "data": {
      "text/html": [
       "<div>\n",
       "<style scoped>\n",
       "    .dataframe tbody tr th:only-of-type {\n",
       "        vertical-align: middle;\n",
       "    }\n",
       "\n",
       "    .dataframe tbody tr th {\n",
       "        vertical-align: top;\n",
       "    }\n",
       "\n",
       "    .dataframe thead th {\n",
       "        text-align: right;\n",
       "    }\n",
       "</style>\n",
       "<table border=\"1\" class=\"dataframe\">\n",
       "  <thead>\n",
       "    <tr style=\"text-align: right;\">\n",
       "      <th></th>\n",
       "      <th>idproperty</th>\n",
       "      <th>province</th>\n",
       "      <th>municipality</th>\n",
       "      <th>surface</th>\n",
       "      <th>rooms</th>\n",
       "      <th>baths</th>\n",
       "      <th>property_type</th>\n",
       "      <th>property_subtype</th>\n",
       "      <th>transacion_type</th>\n",
       "      <th>price</th>\n",
       "      <th>description</th>\n",
       "    </tr>\n",
       "  </thead>\n",
       "  <tbody>\n",
       "    <tr>\n",
       "      <th>237</th>\n",
       "      <td>spjeblyxra</td>\n",
       "      <td>Lleida</td>\n",
       "      <td>Les Borges Blanques</td>\n",
       "      <td>0</td>\n",
       "      <td>0</td>\n",
       "      <td>0</td>\n",
       "      <td>Vivienda</td>\n",
       "      <td>Casa-Chalet</td>\n",
       "      <td>Sell</td>\n",
       "      <td>51500.000000</td>\n",
       "      <td>Casa a reformar a la carretera de Lleida, molt...</td>\n",
       "    </tr>\n",
       "    <tr>\n",
       "      <th>238</th>\n",
       "      <td>amoyanwken</td>\n",
       "      <td>Girona</td>\n",
       "      <td>Salt</td>\n",
       "      <td>0</td>\n",
       "      <td>3</td>\n",
       "      <td>2</td>\n",
       "      <td>Vivienda</td>\n",
       "      <td>Casa-Chalet</td>\n",
       "      <td>Sell</td>\n",
       "      <td>180000.000000</td>\n",
       "      <td>Es una casa composta de planta baixa a local d...</td>\n",
       "    </tr>\n",
       "    <tr>\n",
       "      <th>419</th>\n",
       "      <td>lbmmufshqo</td>\n",
       "      <td>Barcelona</td>\n",
       "      <td>Cerdanyola del Vallès</td>\n",
       "      <td>0</td>\n",
       "      <td>6</td>\n",
       "      <td>5</td>\n",
       "      <td>Vivienda</td>\n",
       "      <td>Casa-Chalet</td>\n",
       "      <td>Sell</td>\n",
       "      <td>890000.000000</td>\n",
       "      <td>Casa en venta en la parte alta de Bellaterra (...</td>\n",
       "    </tr>\n",
       "    <tr>\n",
       "      <th>425</th>\n",
       "      <td>eihufyxpes</td>\n",
       "      <td>Lleida</td>\n",
       "      <td>Lleida Capital</td>\n",
       "      <td>0</td>\n",
       "      <td>4</td>\n",
       "      <td>4</td>\n",
       "      <td>Vivienda</td>\n",
       "      <td>Dúplex</td>\n",
       "      <td>Sell</td>\n",
       "      <td>460000.000000</td>\n",
       "      <td>Amplio y luminoso Dúplex en planta baja de 175...</td>\n",
       "    </tr>\n",
       "    <tr>\n",
       "      <th>531</th>\n",
       "      <td>ubnvkkysgw</td>\n",
       "      <td>Tarragona</td>\n",
       "      <td>Vandellòs i l'Hospitalet de l'Infant</td>\n",
       "      <td>0</td>\n",
       "      <td>2</td>\n",
       "      <td>1</td>\n",
       "      <td>Vivienda</td>\n",
       "      <td>Apartamento</td>\n",
       "      <td>Rent</td>\n",
       "      <td>57.142857</td>\n",
       "      <td>Apartamento de 2 dormitorios dobles con ventil...</td>\n",
       "    </tr>\n",
       "    <tr>\n",
       "      <th>710</th>\n",
       "      <td>bewuyvcwzx</td>\n",
       "      <td>Lleida</td>\n",
       "      <td>Gavet de la Conca</td>\n",
       "      <td>0</td>\n",
       "      <td>4</td>\n",
       "      <td>1</td>\n",
       "      <td>Vivienda</td>\n",
       "      <td>Casa-Chalet</td>\n",
       "      <td>Sell</td>\n",
       "      <td>70000.000000</td>\n",
       "      <td>Casa de pedra reformada estructuralment la faç...</td>\n",
       "    </tr>\n",
       "    <tr>\n",
       "      <th>737</th>\n",
       "      <td>jiyywpylxg</td>\n",
       "      <td>Girona</td>\n",
       "      <td>Camprodon</td>\n",
       "      <td>0</td>\n",
       "      <td>1</td>\n",
       "      <td>1</td>\n",
       "      <td>Vivienda</td>\n",
       "      <td>Piso</td>\n",
       "      <td>Sell</td>\n",
       "      <td>125000.000000</td>\n",
       "      <td>Apartamento de una habitación, cocina-comedor,...</td>\n",
       "    </tr>\n",
       "    <tr>\n",
       "      <th>836</th>\n",
       "      <td>kfewuixhwm</td>\n",
       "      <td>Girona</td>\n",
       "      <td>Camprodon</td>\n",
       "      <td>0</td>\n",
       "      <td>2</td>\n",
       "      <td>1</td>\n",
       "      <td>Vivienda</td>\n",
       "      <td>Apartamento</td>\n",
       "      <td>Sell</td>\n",
       "      <td>119000.000000</td>\n",
       "      <td>Venta o alquiler de temporada al centro de Cam...</td>\n",
       "    </tr>\n",
       "    <tr>\n",
       "      <th>837</th>\n",
       "      <td>kfewuixhwm</td>\n",
       "      <td>Girona</td>\n",
       "      <td>Camprodon</td>\n",
       "      <td>0</td>\n",
       "      <td>2</td>\n",
       "      <td>1</td>\n",
       "      <td>Vivienda</td>\n",
       "      <td>Apartamento</td>\n",
       "      <td>Rent</td>\n",
       "      <td>400.000000</td>\n",
       "      <td>Venta o alquiler de temporada al centro de Cam...</td>\n",
       "    </tr>\n",
       "    <tr>\n",
       "      <th>838</th>\n",
       "      <td>kfewuixhwm</td>\n",
       "      <td>Girona</td>\n",
       "      <td>Camprodon</td>\n",
       "      <td>0</td>\n",
       "      <td>2</td>\n",
       "      <td>1</td>\n",
       "      <td>Vivienda</td>\n",
       "      <td>Apartamento</td>\n",
       "      <td>Rent</td>\n",
       "      <td>12.666667</td>\n",
       "      <td>Venta o alquiler de temporada al centro de Cam...</td>\n",
       "    </tr>\n",
       "    <tr>\n",
       "      <th>1097</th>\n",
       "      <td>tahcvjcapb</td>\n",
       "      <td>Lleida</td>\n",
       "      <td>Sant Esteve de la Sarga</td>\n",
       "      <td>0</td>\n",
       "      <td>2</td>\n",
       "      <td>1</td>\n",
       "      <td>Vivienda</td>\n",
       "      <td>Finca rústica</td>\n",
       "      <td>Sell</td>\n",
       "      <td>0.000000</td>\n",
       "      <td>CASA DE PEDRA PER RESTAURAR, LES PARETS ESTAN ...</td>\n",
       "    </tr>\n",
       "  </tbody>\n",
       "</table>\n",
       "</div>"
      ],
      "text/plain": [
       "      idproperty   province                          municipality  surface  \\\n",
       "237   spjeblyxra     Lleida                   Les Borges Blanques        0   \n",
       "238   amoyanwken     Girona                                  Salt        0   \n",
       "419   lbmmufshqo  Barcelona                 Cerdanyola del Vallès        0   \n",
       "425   eihufyxpes     Lleida                        Lleida Capital        0   \n",
       "531   ubnvkkysgw  Tarragona  Vandellòs i l'Hospitalet de l'Infant        0   \n",
       "710   bewuyvcwzx     Lleida                     Gavet de la Conca        0   \n",
       "737   jiyywpylxg     Girona                             Camprodon        0   \n",
       "836   kfewuixhwm     Girona                             Camprodon        0   \n",
       "837   kfewuixhwm     Girona                             Camprodon        0   \n",
       "838   kfewuixhwm     Girona                             Camprodon        0   \n",
       "1097  tahcvjcapb     Lleida               Sant Esteve de la Sarga        0   \n",
       "\n",
       "      rooms  baths property_type property_subtype transacion_type  \\\n",
       "237       0      0      Vivienda      Casa-Chalet            Sell   \n",
       "238       3      2      Vivienda      Casa-Chalet            Sell   \n",
       "419       6      5      Vivienda      Casa-Chalet            Sell   \n",
       "425       4      4      Vivienda           Dúplex            Sell   \n",
       "531       2      1      Vivienda      Apartamento            Rent   \n",
       "710       4      1      Vivienda      Casa-Chalet            Sell   \n",
       "737       1      1      Vivienda             Piso            Sell   \n",
       "836       2      1      Vivienda      Apartamento            Sell   \n",
       "837       2      1      Vivienda      Apartamento            Rent   \n",
       "838       2      1      Vivienda      Apartamento            Rent   \n",
       "1097      2      1      Vivienda    Finca rústica            Sell   \n",
       "\n",
       "              price                                        description  \n",
       "237    51500.000000  Casa a reformar a la carretera de Lleida, molt...  \n",
       "238   180000.000000  Es una casa composta de planta baixa a local d...  \n",
       "419   890000.000000  Casa en venta en la parte alta de Bellaterra (...  \n",
       "425   460000.000000  Amplio y luminoso Dúplex en planta baja de 175...  \n",
       "531       57.142857  Apartamento de 2 dormitorios dobles con ventil...  \n",
       "710    70000.000000  Casa de pedra reformada estructuralment la faç...  \n",
       "737   125000.000000  Apartamento de una habitación, cocina-comedor,...  \n",
       "836   119000.000000  Venta o alquiler de temporada al centro de Cam...  \n",
       "837      400.000000  Venta o alquiler de temporada al centro de Cam...  \n",
       "838       12.666667  Venta o alquiler de temporada al centro de Cam...  \n",
       "1097       0.000000  CASA DE PEDRA PER RESTAURAR, LES PARETS ESTAN ...  "
      ]
     },
     "execution_count": 27,
     "metadata": {},
     "output_type": "execute_result"
    }
   ],
   "source": [
    "df_fotocasa[df_fotocasa.idproperty.isin(df_fotocasa[df_fotocasa.surface == 0.0].idproperty)]"
   ]
  },
  {
   "cell_type": "code",
   "execution_count": 34,
   "metadata": {},
   "outputs": [
    {
     "data": {
      "text/plain": [
       "Text(0.5, 0.98, 'Surface measure distribution with and without outliers')"
      ]
     },
     "execution_count": 34,
     "metadata": {},
     "output_type": "execute_result"
    },
    {
     "data": {
      "image/png": "[encoded data removed]",
      "text/plain": [
       "<Figure size 1296x288 with 2 Axes>"
      ]
     },
     "metadata": {
      "needs_background": "light"
     },
     "output_type": "display_data"
    }
   ],
   "source": [
    "fig, (ax1, ax2) = plt.subplots(1,2, figsize=(18,4))\n",
    "ax1 = sns.boxplot(x=df_fotocasa.surface, showfliers=False, ax=ax1)\n",
    "ax2 = sns.boxplot(x=df_fotocasa.surface, ax=ax2)\n",
    "fig.suptitle(\"Surface measure distribution with and without outliers\")"
   ]
  },
  {
   "cell_type": "code",
   "execution_count": 41,
   "metadata": {},
   "outputs": [
    {
     "data": {
      "text/plain": [
       "Text(0.5, 0.98, 'Surface measure SELL distribution with and without outliers')"
      ]
     },
     "execution_count": 41,
     "metadata": {},
     "output_type": "execute_result"
    },
    {
     "data": {
      "image/png": "[encoded data removed]",
      "text/plain": [
       "<Figure size 1296x288 with 2 Axes>"
      ]
     },
     "metadata": {
      "needs_background": "light"
     },
     "output_type": "display_data"
    }
   ],
   "source": [
    "fig, (ax1, ax2) = plt.subplots(1,2, figsize=(18,4))\n",
    "ax1 = sns.boxplot(x=df_fotocasa_sell.surface, showfliers=False, ax=ax1)\n",
    "ax2 = sns.boxplot(x=df_fotocasa_sell.surface, ax=ax2)\n",
    "fig.suptitle(\"Surface measure SELL distribution with and without outliers\")"
   ]
  },
  {
   "cell_type": "code",
   "execution_count": 42,
   "metadata": {},
   "outputs": [
    {
     "data": {
      "text/plain": [
       "Text(0.5, 0.98, 'Surface measure RENT distribution with and without outliers')"
      ]
     },
     "execution_count": 42,
     "metadata": {},
     "output_type": "execute_result"
    },
    {
     "data": {
      "image/png": "[encoded data removed]",
      "text/plain": [
       "<Figure size 1296x288 with 2 Axes>"
      ]
     },
     "metadata": {
      "needs_background": "light"
     },
     "output_type": "display_data"
    }
   ],
   "source": [
    "fig, (ax1, ax2) = plt.subplots(1,2, figsize=(18,4))\n",
    "ax1 = sns.boxplot(x=df_fotocasa_rent.surface, showfliers=False, ax=ax1)\n",
    "ax2 = sns.boxplot(x=df_fotocasa_rent.surface, ax=ax2)\n",
    "fig.suptitle(\"Surface measure RENT distribution with and without outliers\")"
   ]
  },
  {
   "cell_type": "code",
   "execution_count": 59,
   "metadata": {},
   "outputs": [
    {
     "name": "stdout",
     "output_type": "stream",
     "text": [
      "Statistics=58269.500, p=0.000\n",
      "Different distribution (reject H0)\n"
     ]
    }
   ],
   "source": [
    "mann_wihitney(df_fotocasa_sell.surface, df_fotocasa_rent.surface)"
   ]
  },
  {
   "cell_type": "markdown",
   "metadata": {},
   "source": [
    "**Conclusion:** There are significant differences in the distribution of surfaces between selling and renting properties."
   ]
  },
  {
   "cell_type": "markdown",
   "metadata": {},
   "source": [
    "**price**"
   ]
  },
  {
   "cell_type": "code",
   "execution_count": 43,
   "metadata": {},
   "outputs": [
    {
     "data": {
      "text/plain": [
       "count    1.208000e+03\n",
       "mean     2.386080e+05\n",
       "std      3.462939e+05\n",
       "min      0.000000e+00\n",
       "25%      4.909000e+04\n",
       "50%      1.570000e+05\n",
       "75%      2.888750e+05\n",
       "max      3.900000e+06\n",
       "Name: price, dtype: float64"
      ]
     },
     "execution_count": 43,
     "metadata": {},
     "output_type": "execute_result"
    }
   ],
   "source": [
    "df_fotocasa.price.describe()"
   ]
  },
  {
   "cell_type": "code",
   "execution_count": 77,
   "metadata": {},
   "outputs": [
    {
     "data": {
      "text/plain": [
       "Text(0.5, 0.98, 'Price measure distribution with and without outliers')"
      ]
     },
     "execution_count": 77,
     "metadata": {},
     "output_type": "execute_result"
    },
    {
     "data": {
      "image/png": "[encoded data removed]",
      "text/plain": [
       "<Figure size 1296x288 with 2 Axes>"
      ]
     },
     "metadata": {
      "needs_background": "light"
     },
     "output_type": "display_data"
    }
   ],
   "source": [
    "fig, (ax1, ax2) = plt.subplots(1,2, figsize=(18,4))\n",
    "ax1 = sns.boxplot(x=df_fotocasa.price, showfliers=False, ax=ax1)\n",
    "ax2 = sns.boxplot(x=df_fotocasa.price, ax=ax2)\n",
    "fig.suptitle(\"Price measure distribution with and without outliers\")"
   ]
  },
  {
   "cell_type": "code",
   "execution_count": 78,
   "metadata": {},
   "outputs": [
    {
     "data": {
      "text/plain": [
       "Text(0.5, 0.98, 'Price measure SELL distribution with and without outliers')"
      ]
     },
     "execution_count": 78,
     "metadata": {},
     "output_type": "execute_result"
    },
    {
     "data": {
      "image/png": "[encoded data removed]",
      "text/plain": [
       "<Figure size 1296x288 with 2 Axes>"
      ]
     },
     "metadata": {
      "needs_background": "light"
     },
     "output_type": "display_data"
    }
   ],
   "source": [
    "fig, (ax1, ax2) = plt.subplots(1,2, figsize=(18,4))\n",
    "ax1 = sns.boxplot(x=df_fotocasa_sell.price, showfliers=False, ax=ax1)\n",
    "ax2 = sns.boxplot(x=df_fotocasa_sell.price, ax=ax2)\n",
    "fig.suptitle(\"Price measure SELL distribution with and without outliers\")"
   ]
  },
  {
   "cell_type": "code",
   "execution_count": 79,
   "metadata": {},
   "outputs": [
    {
     "data": {
      "text/plain": [
       "Text(0.5, 0.98, 'Price measure RENT distribution with and without outliers')"
      ]
     },
     "execution_count": 79,
     "metadata": {},
     "output_type": "execute_result"
    },
    {
     "data": {
      "image/png": "[encoded data removed]",
      "text/plain": [
       "<Figure size 1296x288 with 2 Axes>"
      ]
     },
     "metadata": {
      "needs_background": "light"
     },
     "output_type": "display_data"
    }
   ],
   "source": [
    "fig, (ax1, ax2) = plt.subplots(1,2, figsize=(18,4))\n",
    "ax1 = sns.boxplot(x=df_fotocasa_rent.price, showfliers=False, ax=ax1)\n",
    "ax2 = sns.boxplot(x=df_fotocasa_rent.price, ax=ax2)\n",
    "fig.suptitle(\"Price measure RENT distribution with and without outliers\")"
   ]
  },
  {
   "cell_type": "code",
   "execution_count": 64,
   "metadata": {},
   "outputs": [
    {
     "name": "stdout",
     "output_type": "stream",
     "text": [
      "Statistics=1798.500, p=0.000\n",
      "Different distribution (reject H0)\n"
     ]
    }
   ],
   "source": [
    "mann_wihitney(df_fotocasa_sell.price, df_fotocasa_rent.price)"
   ]
  },
  {
   "cell_type": "markdown",
   "metadata": {},
   "source": [
    "**Conclusion:** There are significant differences in the distribution of prices between selling and renting properties."
   ]
  },
  {
   "cell_type": "markdown",
   "metadata": {},
   "source": [
    "### Adevinta: Features: Categorical (ordinal)"
   ]
  },
  {
   "cell_type": "markdown",
   "metadata": {},
   "source": [
    "**rooms**"
   ]
  },
  {
   "cell_type": "code",
   "execution_count": 67,
   "metadata": {},
   "outputs": [
    {
     "data": {
      "text/plain": [
       "[0, 1, 2, 3, 4, 5, 6, 7, 8, 9, 10, 11, 12, 14, 20]"
      ]
     },
     "execution_count": 67,
     "metadata": {},
     "output_type": "execute_result"
    }
   ],
   "source": [
    "sorted(df_fotocasa.rooms.unique())"
   ]
  },
  {
   "cell_type": "code",
   "execution_count": 84,
   "metadata": {},
   "outputs": [
    {
     "data": {
      "text/plain": [
       "Text(0.5, 0.98, 'Rooms distribution in original, sell and rent datasets')"
      ]
     },
     "execution_count": 84,
     "metadata": {},
     "output_type": "execute_result"
    },
    {
     "data": {
      "image/png": "[encoded data removed]",
      "text/plain": [
       "<Figure size 1296x288 with 3 Axes>"
      ]
     },
     "metadata": {
      "needs_background": "light"
     },
     "output_type": "display_data"
    }
   ],
   "source": [
    "fig, (ax1, ax2, ax3) = plt.subplots(1,3, figsize=(18,4))\n",
    "\n",
    "ax1 = df_fotocasa[[\"rooms\",\"idproperty\"]].groupby(\"rooms\").nunique().idproperty.plot(kind='bar', ax=ax1)\n",
    "ax1.set_xlim(-1,20)\n",
    "ax2 = df_fotocasa_sell[[\"rooms\",\"idproperty\"]].groupby(\"rooms\").nunique().idproperty.plot(kind='bar', ax=ax2)\n",
    "ax2.set_xlim(-1,20)\n",
    "ax3 = df_fotocasa_rent[[\"rooms\",\"idproperty\"]].groupby(\"rooms\").nunique().idproperty.plot(kind='bar', ax=ax3)\n",
    "ax3.set_xlim(-1,20)\n",
    "fig.suptitle(\"Rooms distribution in original, sell and rent datasets\")"
   ]
  },
  {
   "cell_type": "code",
   "execution_count": null,
   "metadata": {},
   "outputs": [],
   "source": []
  },
  {
   "cell_type": "code",
   "execution_count": null,
   "metadata": {},
   "outputs": [],
   "source": []
  },
  {
   "cell_type": "markdown",
   "metadata": {},
   "source": [
    "**baths**"
   ]
  },
  {
   "cell_type": "code",
   "execution_count": 82,
   "metadata": {},
   "outputs": [
    {
     "data": {
      "text/plain": [
       "[0, 1, 2, 3, 4, 5, 6, 7, 8, 10]"
      ]
     },
     "execution_count": 82,
     "metadata": {},
     "output_type": "execute_result"
    }
   ],
   "source": [
    "sorted(df_fotocasa.baths.unique())"
   ]
  },
  {
   "cell_type": "code",
   "execution_count": 83,
   "metadata": {},
   "outputs": [
    {
     "data": {
      "text/plain": [
       "Text(0.5, 0.98, 'Baths distribution on original, sell and rent datasets')"
      ]
     },
     "execution_count": 83,
     "metadata": {},
     "output_type": "execute_result"
    },
    {
     "data": {
      "image/png": "[encoded data removed]",
      "text/plain": [
       "<Figure size 1296x288 with 3 Axes>"
      ]
     },
     "metadata": {
      "needs_background": "light"
     },
     "output_type": "display_data"
    }
   ],
   "source": [
    "fig, (ax1, ax2, ax3) = plt.subplots(1,3, figsize=(18,4))\n",
    "\n",
    "ax1 = df_fotocasa[[\"baths\",\"idproperty\"]].groupby(\"baths\").nunique().idproperty.plot(kind='bar', ax=ax1)\n",
    "ax1.set_xlim(-1,20)\n",
    "ax2 = df_fotocasa_sell[[\"baths\",\"idproperty\"]].groupby(\"baths\").nunique().idproperty.plot(kind='bar', ax=ax2)\n",
    "ax2.set_xlim(-1,20)\n",
    "ax3 = df_fotocasa_rent[[\"baths\",\"idproperty\"]].groupby(\"baths\").nunique().idproperty.plot(kind='bar', ax=ax3)\n",
    "ax3.set_xlim(-1,20)\n",
    "fig.suptitle(\"Baths distribution in original, sell and rent datasets\")"
   ]
  },
  {
   "cell_type": "code",
   "execution_count": null,
   "metadata": {},
   "outputs": [],
   "source": []
  },
  {
   "cell_type": "code",
   "execution_count": null,
   "metadata": {},
   "outputs": [],
   "source": []
  },
  {
   "cell_type": "markdown",
   "metadata": {},
   "source": [
    "### Adevinta: Features: Categorical (nominal)"
   ]
  },
  {
   "cell_type": "markdown",
   "metadata": {},
   "source": [
    "**transacion type**"
   ]
  },
  {
   "cell_type": "code",
   "execution_count": 121,
   "metadata": {},
   "outputs": [
    {
     "data": {
      "text/plain": [
       "array(['Sell', 'Rent', 'Added in Olap', 'Share'], dtype=object)"
      ]
     },
     "execution_count": 121,
     "metadata": {},
     "output_type": "execute_result"
    }
   ],
   "source": [
    "df_fotocasa.transacion_type.unique()"
   ]
  },
  {
   "cell_type": "code",
   "execution_count": 122,
   "metadata": {},
   "outputs": [
    {
     "data": {
      "text/html": [
       "<div>\n",
       "<style scoped>\n",
       "    .dataframe tbody tr th:only-of-type {\n",
       "        vertical-align: middle;\n",
       "    }\n",
       "\n",
       "    .dataframe tbody tr th {\n",
       "        vertical-align: top;\n",
       "    }\n",
       "\n",
       "    .dataframe thead th {\n",
       "        text-align: right;\n",
       "    }\n",
       "</style>\n",
       "<table border=\"1\" class=\"dataframe\">\n",
       "  <thead>\n",
       "    <tr style=\"text-align: right;\">\n",
       "      <th></th>\n",
       "      <th>idproperty</th>\n",
       "    </tr>\n",
       "    <tr>\n",
       "      <th>transacion_type</th>\n",
       "      <th></th>\n",
       "    </tr>\n",
       "  </thead>\n",
       "  <tbody>\n",
       "    <tr>\n",
       "      <th>Sell</th>\n",
       "      <td>880</td>\n",
       "    </tr>\n",
       "    <tr>\n",
       "      <th>Rent</th>\n",
       "      <td>176</td>\n",
       "    </tr>\n",
       "    <tr>\n",
       "      <th>Added in Olap</th>\n",
       "      <td>28</td>\n",
       "    </tr>\n",
       "    <tr>\n",
       "      <th>Share</th>\n",
       "      <td>5</td>\n",
       "    </tr>\n",
       "  </tbody>\n",
       "</table>\n",
       "</div>"
      ],
      "text/plain": [
       "                 idproperty\n",
       "transacion_type            \n",
       "Sell                    880\n",
       "Rent                    176\n",
       "Added in Olap            28\n",
       "Share                     5"
      ]
     },
     "execution_count": 122,
     "metadata": {},
     "output_type": "execute_result"
    }
   ],
   "source": [
    "df_fotocasa.groupby(\"transacion_type\").nunique()[[\"idproperty\"]].sort_values(by='idproperty',ascending=False)"
   ]
  },
  {
   "cell_type": "markdown",
   "metadata": {},
   "source": [
    "**property type and subtype**"
   ]
  },
  {
   "cell_type": "code",
   "execution_count": 88,
   "metadata": {},
   "outputs": [
    {
     "data": {
      "text/plain": [
       "array(['Vivienda'], dtype=object)"
      ]
     },
     "execution_count": 88,
     "metadata": {},
     "output_type": "execute_result"
    }
   ],
   "source": [
    "df_fotocasa.property_type.unique()"
   ]
  },
  {
   "cell_type": "code",
   "execution_count": 89,
   "metadata": {},
   "outputs": [
    {
     "data": {
      "text/plain": [
       "array(['Apartamento', 'Casa-Chalet', 'Piso', 'Casa adosada',\n",
       "       'Finca rústica', 'Ático', 'Dúplex', 'Estudio', 'Planta baja',\n",
       "       'Loft'], dtype=object)"
      ]
     },
     "execution_count": 89,
     "metadata": {},
     "output_type": "execute_result"
    }
   ],
   "source": [
    "df_fotocasa.property_subtype.unique()"
   ]
  },
  {
   "cell_type": "code",
   "execution_count": 96,
   "metadata": {},
   "outputs": [
    {
     "data": {
      "text/plain": [
       "Text(0.5, 0.98, 'Baths distribution Sell and Rent datasets')"
      ]
     },
     "execution_count": 96,
     "metadata": {},
     "output_type": "execute_result"
    },
    {
     "data": {
      "image/png": "[encoded data removed]",
      "text/plain": [
       "<Figure size 1296x288 with 2 Axes>"
      ]
     },
     "metadata": {
      "needs_background": "light"
     },
     "output_type": "display_data"
    }
   ],
   "source": [
    "fig, (ax1, ax2) = plt.subplots(1,2, figsize=(18,4))\n",
    "\n",
    "ax1 = df_fotocasa_sell[[\"property_subtype\",\"idproperty\"]].groupby(\"property_subtype\").nunique() \\\n",
    "        [[\"idproperty\"]].sort_values(by='idproperty',ascending=False).plot(kind='bar', ax=ax1)\n",
    "ax2 = df_fotocasa_rent[[\"property_subtype\",\"idproperty\"]].groupby(\"property_subtype\").nunique() \\\n",
    "        [[\"idproperty\"]].sort_values(by='idproperty',ascending=False).plot(kind='bar', ax=ax2)\n",
    "fig.suptitle(\"Baths distribution Sell and Rent datasets\")"
   ]
  },
  {
   "cell_type": "markdown",
   "metadata": {},
   "source": [
    "**province & municipality**"
   ]
  },
  {
   "cell_type": "code",
   "execution_count": 100,
   "metadata": {},
   "outputs": [
    {
     "data": {
      "text/plain": [
       "array(['Girona', 'Barcelona', 'Lleida', 'Tarragona'], dtype=object)"
      ]
     },
     "execution_count": 100,
     "metadata": {},
     "output_type": "execute_result"
    }
   ],
   "source": [
    "df_fotocasa.province.unique()"
   ]
  },
  {
   "cell_type": "code",
   "execution_count": 101,
   "metadata": {},
   "outputs": [
    {
     "data": {
      "text/html": [
       "<div>\n",
       "<style scoped>\n",
       "    .dataframe tbody tr th:only-of-type {\n",
       "        vertical-align: middle;\n",
       "    }\n",
       "\n",
       "    .dataframe tbody tr th {\n",
       "        vertical-align: top;\n",
       "    }\n",
       "\n",
       "    .dataframe thead th {\n",
       "        text-align: right;\n",
       "    }\n",
       "</style>\n",
       "<table border=\"1\" class=\"dataframe\">\n",
       "  <thead>\n",
       "    <tr style=\"text-align: right;\">\n",
       "      <th></th>\n",
       "      <th>idproperty</th>\n",
       "    </tr>\n",
       "    <tr>\n",
       "      <th>province</th>\n",
       "      <th></th>\n",
       "    </tr>\n",
       "  </thead>\n",
       "  <tbody>\n",
       "    <tr>\n",
       "      <th>Barcelona</th>\n",
       "      <td>317</td>\n",
       "    </tr>\n",
       "    <tr>\n",
       "      <th>Tarragona</th>\n",
       "      <td>280</td>\n",
       "    </tr>\n",
       "    <tr>\n",
       "      <th>Girona</th>\n",
       "      <td>180</td>\n",
       "    </tr>\n",
       "    <tr>\n",
       "      <th>Lleida</th>\n",
       "      <td>127</td>\n",
       "    </tr>\n",
       "  </tbody>\n",
       "</table>\n",
       "</div>"
      ],
      "text/plain": [
       "           idproperty\n",
       "province             \n",
       "Barcelona         317\n",
       "Tarragona         280\n",
       "Girona            180\n",
       "Lleida            127"
      ]
     },
     "execution_count": 101,
     "metadata": {},
     "output_type": "execute_result"
    }
   ],
   "source": [
    "df_fotocasa.groupby(\"province\").nunique()[[\"idproperty\"]].sort_values(by='idproperty',ascending=False)"
   ]
  },
  {
   "cell_type": "code",
   "execution_count": null,
   "metadata": {},
   "outputs": [],
   "source": [
    "df_fotocasa.municipality.unique()"
   ]
  },
  {
   "cell_type": "code",
   "execution_count": 102,
   "metadata": {},
   "outputs": [
    {
     "data": {
      "text/plain": [
       "365"
      ]
     },
     "execution_count": 102,
     "metadata": {},
     "output_type": "execute_result"
    }
   ],
   "source": [
    "len(df_fotocasa.municipality.unique())"
   ]
  },
  {
   "cell_type": "code",
   "execution_count": 110,
   "metadata": {},
   "outputs": [
    {
     "data": {
      "text/plain": [
       "<matplotlib.axes._subplots.AxesSubplot at 0x1c20a89320>"
      ]
     },
     "execution_count": 110,
     "metadata": {},
     "output_type": "execute_result"
    },
    {
     "data": {
      "image/png": "[encoded data removed]",
      "text/plain": [
       "<Figure size 1584x360 with 1 Axes>"
      ]
     },
     "metadata": {
      "needs_background": "light"
     },
     "output_type": "display_data"
    }
   ],
   "source": [
    "df = df_fotocasa.groupby(\"municipality\").nunique() \\\n",
    "    [[\"idproperty\"]].sort_values(by='idproperty',ascending=False)\n",
    "\n",
    "df[df.idproperty > 1.0].plot(kind='bar', figsize=(22,5))"
   ]
  },
  {
   "cell_type": "code",
   "execution_count": 114,
   "metadata": {},
   "outputs": [
    {
     "data": {
      "text/html": [
       "<div>\n",
       "<style scoped>\n",
       "    .dataframe tbody tr th:only-of-type {\n",
       "        vertical-align: middle;\n",
       "    }\n",
       "\n",
       "    .dataframe tbody tr th {\n",
       "        vertical-align: top;\n",
       "    }\n",
       "\n",
       "    .dataframe thead th {\n",
       "        text-align: right;\n",
       "    }\n",
       "</style>\n",
       "<table border=\"1\" class=\"dataframe\">\n",
       "  <thead>\n",
       "    <tr style=\"text-align: right;\">\n",
       "      <th></th>\n",
       "      <th>municipality</th>\n",
       "    </tr>\n",
       "    <tr>\n",
       "      <th>idproperty</th>\n",
       "      <th></th>\n",
       "    </tr>\n",
       "  </thead>\n",
       "  <tbody>\n",
       "    <tr>\n",
       "      <th>1</th>\n",
       "      <td>183</td>\n",
       "    </tr>\n",
       "    <tr>\n",
       "      <th>2</th>\n",
       "      <td>79</td>\n",
       "    </tr>\n",
       "    <tr>\n",
       "      <th>3</th>\n",
       "      <td>31</td>\n",
       "    </tr>\n",
       "    <tr>\n",
       "      <th>4</th>\n",
       "      <td>26</td>\n",
       "    </tr>\n",
       "    <tr>\n",
       "      <th>5</th>\n",
       "      <td>21</td>\n",
       "    </tr>\n",
       "    <tr>\n",
       "      <th>6</th>\n",
       "      <td>7</td>\n",
       "    </tr>\n",
       "    <tr>\n",
       "      <th>7</th>\n",
       "      <td>4</td>\n",
       "    </tr>\n",
       "    <tr>\n",
       "      <th>8</th>\n",
       "      <td>2</td>\n",
       "    </tr>\n",
       "    <tr>\n",
       "      <th>10</th>\n",
       "      <td>4</td>\n",
       "    </tr>\n",
       "    <tr>\n",
       "      <th>11</th>\n",
       "      <td>1</td>\n",
       "    </tr>\n",
       "    <tr>\n",
       "      <th>13</th>\n",
       "      <td>1</td>\n",
       "    </tr>\n",
       "    <tr>\n",
       "      <th>15</th>\n",
       "      <td>1</td>\n",
       "    </tr>\n",
       "    <tr>\n",
       "      <th>17</th>\n",
       "      <td>2</td>\n",
       "    </tr>\n",
       "    <tr>\n",
       "      <th>18</th>\n",
       "      <td>1</td>\n",
       "    </tr>\n",
       "    <tr>\n",
       "      <th>21</th>\n",
       "      <td>1</td>\n",
       "    </tr>\n",
       "    <tr>\n",
       "      <th>23</th>\n",
       "      <td>1</td>\n",
       "    </tr>\n",
       "  </tbody>\n",
       "</table>\n",
       "</div>"
      ],
      "text/plain": [
       "            municipality\n",
       "idproperty              \n",
       "1                    183\n",
       "2                     79\n",
       "3                     31\n",
       "4                     26\n",
       "5                     21\n",
       "6                      7\n",
       "7                      4\n",
       "8                      2\n",
       "10                     4\n",
       "11                     1\n",
       "13                     1\n",
       "15                     1\n",
       "17                     2\n",
       "18                     1\n",
       "21                     1\n",
       "23                     1"
      ]
     },
     "execution_count": 114,
     "metadata": {},
     "output_type": "execute_result"
    }
   ],
   "source": [
    "df.reset_index().groupby('idproperty').nunique()[['municipality']]"
   ]
  },
  {
   "cell_type": "markdown",
   "metadata": {},
   "source": [
    "Geocoding province and municipality into latitude and longitude"
   ]
  },
  {
   "cell_type": "code",
   "execution_count": 97,
   "metadata": {},
   "outputs": [],
   "source": [
    "from geopy.geocoders import Nominatim\n",
    "from geopy.extra.rate_limiter import RateLimiter\n",
    "\n",
    "def get_geocoded_locations(df_data):\n",
    "    # create the address based on province and municipality\n",
    "    df_geo = df_data.copy()\n",
    "    df_geo[\"address\"] = df_geo.province + \", \" + df_geo.municipality\n",
    "    df_geo = df_data[\n",
    "        [\"idproperty\",\"address\"]\n",
    "    ].groupby(\"idproperty\").first().reset_index()\n",
    "\n",
    "    # change capitals address to be geocoded\n",
    "    capitals = {\n",
    "        'Barcelona, Barcelona Capital': 'Barcelona, Barcelona, Spain',\n",
    "        'Lleida,  Lleida Capital': 'Lleida, Lleida, Spain', \n",
    "        'Tarragona,  Tarragona Capital': 'Tarragona, Tarragona, Spain',\n",
    "        'Girona, Girona Capital': 'Girona, Girona, Spain',\n",
    "    }\n",
    "    df_geo.address = df_geo.address.apply(\n",
    "        lambda x : capitals[x] if x in capitals.keys() else x)\n",
    "\n",
    "    # geocoding with geoapi\n",
    "    geolocator = Nominatim()\n",
    "    geocode = RateLimiter(geolocator.geocode, min_delay_seconds=1)\n",
    "\n",
    "    df_geo['location'] = df_geo['address'].apply(geocode)\n",
    "    df_geo['point'] = df_geo['location'].apply(\n",
    "        lambda loc: tuple(loc.point) if loc else None)\n",
    "    \n",
    "    # extract latitude and longitude from location points\n",
    "    df_geo['latitude'] = df_geo.point.apply(lambda x : x[0])\n",
    "    df_geo['longitude'] = df_geo.point.apply(lambda x : x[1])\n",
    "    return geo"
   ]
  },
  {
   "cell_type": "code",
   "execution_count": 99,
   "metadata": {},
   "outputs": [
    {
     "data": {
      "text/plain": [
       "(904, 6)"
      ]
     },
     "execution_count": 99,
     "metadata": {},
     "output_type": "execute_result"
    }
   ],
   "source": [
    "df_geo = get_geocoded_locations(df_fotocasa)\n",
    "df_geo.shape"
   ]
  },
  {
   "cell_type": "code",
   "execution_count": 115,
   "metadata": {},
   "outputs": [
    {
     "data": {
      "text/html": [
       "<div>\n",
       "<style scoped>\n",
       "    .dataframe tbody tr th:only-of-type {\n",
       "        vertical-align: middle;\n",
       "    }\n",
       "\n",
       "    .dataframe tbody tr th {\n",
       "        vertical-align: top;\n",
       "    }\n",
       "\n",
       "    .dataframe thead th {\n",
       "        text-align: right;\n",
       "    }\n",
       "</style>\n",
       "<table border=\"1\" class=\"dataframe\">\n",
       "  <thead>\n",
       "    <tr style=\"text-align: right;\">\n",
       "      <th></th>\n",
       "      <th>idproperty</th>\n",
       "      <th>address</th>\n",
       "      <th>location</th>\n",
       "      <th>point</th>\n",
       "      <th>latitude</th>\n",
       "      <th>longitude</th>\n",
       "    </tr>\n",
       "  </thead>\n",
       "  <tbody>\n",
       "    <tr>\n",
       "      <th>0</th>\n",
       "      <td>abkvpehvdk</td>\n",
       "      <td>Barcelona, Sant Pere de Ribes</td>\n",
       "      <td>(Sant Pere de Ribes, Garraf, BCN, CAT, España,...</td>\n",
       "      <td>(41.2619218, 1.7721357, 0.0)</td>\n",
       "      <td>41.261922</td>\n",
       "      <td>1.772136</td>\n",
       "    </tr>\n",
       "    <tr>\n",
       "      <th>1</th>\n",
       "      <td>abrrpeggwd</td>\n",
       "      <td>Barcelona, Tordera</td>\n",
       "      <td>(Tordera, Maresme, BCN, CAT, 08490, España, (4...</td>\n",
       "      <td>(41.6977173, 2.7172987, 0.0)</td>\n",
       "      <td>41.697717</td>\n",
       "      <td>2.717299</td>\n",
       "    </tr>\n",
       "    <tr>\n",
       "      <th>2</th>\n",
       "      <td>adqphxnrhg</td>\n",
       "      <td>Girona, Torroella de Montgrí</td>\n",
       "      <td>(Torroella de Montgrí, Baix Empordà, Girona, C...</td>\n",
       "      <td>(42.040982, 3.1262041, 0.0)</td>\n",
       "      <td>42.040982</td>\n",
       "      <td>3.126204</td>\n",
       "    </tr>\n",
       "    <tr>\n",
       "      <th>3</th>\n",
       "      <td>adsvpzczjm</td>\n",
       "      <td>Tarragona, Solivella</td>\n",
       "      <td>(Solivella, Conca de Barberà, Tarragona, CAT, ...</td>\n",
       "      <td>(41.4551755, 1.1782848, 0.0)</td>\n",
       "      <td>41.455176</td>\n",
       "      <td>1.178285</td>\n",
       "    </tr>\n",
       "    <tr>\n",
       "      <th>4</th>\n",
       "      <td>aemkznotwk</td>\n",
       "      <td>Girona, Ripoll</td>\n",
       "      <td>(Ripoll, Ripollès, Girona, CAT, 17500, España,...</td>\n",
       "      <td>(42.1982391, 2.1932496, 0.0)</td>\n",
       "      <td>42.198239</td>\n",
       "      <td>2.193250</td>\n",
       "    </tr>\n",
       "  </tbody>\n",
       "</table>\n",
       "</div>"
      ],
      "text/plain": [
       "   idproperty                        address  \\\n",
       "0  abkvpehvdk  Barcelona, Sant Pere de Ribes   \n",
       "1  abrrpeggwd             Barcelona, Tordera   \n",
       "2  adqphxnrhg   Girona, Torroella de Montgrí   \n",
       "3  adsvpzczjm           Tarragona, Solivella   \n",
       "4  aemkznotwk                 Girona, Ripoll   \n",
       "\n",
       "                                            location  \\\n",
       "0  (Sant Pere de Ribes, Garraf, BCN, CAT, España,...   \n",
       "1  (Tordera, Maresme, BCN, CAT, 08490, España, (4...   \n",
       "2  (Torroella de Montgrí, Baix Empordà, Girona, C...   \n",
       "3  (Solivella, Conca de Barberà, Tarragona, CAT, ...   \n",
       "4  (Ripoll, Ripollès, Girona, CAT, 17500, España,...   \n",
       "\n",
       "                          point   latitude  longitude  \n",
       "0  (41.2619218, 1.7721357, 0.0)  41.261922   1.772136  \n",
       "1  (41.6977173, 2.7172987, 0.0)  41.697717   2.717299  \n",
       "2   (42.040982, 3.1262041, 0.0)  42.040982   3.126204  \n",
       "3  (41.4551755, 1.1782848, 0.0)  41.455176   1.178285  \n",
       "4  (42.1982391, 2.1932496, 0.0)  42.198239   2.193250  "
      ]
     },
     "execution_count": 115,
     "metadata": {},
     "output_type": "execute_result"
    }
   ],
   "source": [
    "df_geo.head()"
   ]
  },
  {
   "cell_type": "code",
   "execution_count": 118,
   "metadata": {},
   "outputs": [],
   "source": [
    "df_fotocasa_ = pd.merge(\n",
    "    df_fotocasa,\n",
    "    df_geo[['idproperty','latitude','longitude']],\n",
    "    how='left',\n",
    "    on='idproperty'\n",
    ")"
   ]
  },
  {
   "cell_type": "code",
   "execution_count": 120,
   "metadata": {},
   "outputs": [],
   "source": [
    "df_fotocasa_sell_ = pd.merge(\n",
    "    df_fotocasa_sell,\n",
    "    df_geo[['idproperty','latitude','longitude']],\n",
    "    how='left',\n",
    "    on='idproperty'\n",
    ")"
   ]
  },
  {
   "cell_type": "code",
   "execution_count": 119,
   "metadata": {},
   "outputs": [],
   "source": [
    "df_fotocasa_rent_ = pd.merge(\n",
    "    df_fotocasa_rent,\n",
    "    df_geo[['idproperty','latitude','longitude']],\n",
    "    how='left',\n",
    "    on='idproperty'\n",
    ")"
   ]
  },
  {
   "cell_type": "code",
   "execution_count": 123,
   "metadata": {},
   "outputs": [],
   "source": [
    "df_fotocasa_.to_pickle(\"./data/df_fotocasa.pkl\")"
   ]
  },
  {
   "cell_type": "code",
   "execution_count": 124,
   "metadata": {},
   "outputs": [],
   "source": [
    "df_fotocasa_sell_.to_pickle(\"./data/df_fotocasa_sell.pkl\")"
   ]
  },
  {
   "cell_type": "code",
   "execution_count": 125,
   "metadata": {},
   "outputs": [],
   "source": [
    "df_fotocasa_rent_.to_pickle(\"./data/df_fotocasa_rent.pkl\")"
   ]
  },
  {
   "cell_type": "markdown",
   "metadata": {},
   "source": [
    "## Adevinta: Feature correlations"
   ]
  },
  {
   "cell_type": "code",
   "execution_count": 153,
   "metadata": {},
   "outputs": [],
   "source": [
    "def get_numerical_dataframe(df_fotocasa_):\n",
    "    df_fotocasa_vars = \\\n",
    "        df_fotocasa_[['surface','rooms','baths',\n",
    "                      'latitude','longitude','price',\n",
    "                      'property_subtype']] \\\n",
    "            .groupby(['surface','rooms','baths','latitude',\n",
    "                      'property_subtype','longitude']) \\\n",
    "            .max().reset_index()\n",
    "\n",
    "    df_fotocasa_property_subtype = pd.get_dummies(df_fotocasa_vars.property_subtype)\n",
    "\n",
    "    df_fotocasa_new = pd.concat([\n",
    "        df_fotocasa_vars[['surface','rooms','baths',\n",
    "            'latitude','longitude','price']], \n",
    "        df_fotocasa_property_subtype,\n",
    "    ], axis=1,sort=False)\n",
    "    return df_fotocasa_new"
   ]
  },
  {
   "cell_type": "code",
   "execution_count": 154,
   "metadata": {},
   "outputs": [],
   "source": [
    "df_fotocasa_new = get_numerical_dataframe(df_fotocasa_)"
   ]
  },
  {
   "cell_type": "code",
   "execution_count": 155,
   "metadata": {},
   "outputs": [],
   "source": [
    "df_fotocasa_sell_new = get_numerical_dataframe(df_fotocasa_sell_)"
   ]
  },
  {
   "cell_type": "code",
   "execution_count": 156,
   "metadata": {},
   "outputs": [],
   "source": [
    "df_fotocasa_rent_new = get_numerical_dataframe(df_fotocasa_rent_)"
   ]
  },
  {
   "cell_type": "code",
   "execution_count": 139,
   "metadata": {},
   "outputs": [
    {
     "data": {
      "text/html": [
       "<div>\n",
       "<style scoped>\n",
       "    .dataframe tbody tr th:only-of-type {\n",
       "        vertical-align: middle;\n",
       "    }\n",
       "\n",
       "    .dataframe tbody tr th {\n",
       "        vertical-align: top;\n",
       "    }\n",
       "\n",
       "    .dataframe thead th {\n",
       "        text-align: right;\n",
       "    }\n",
       "</style>\n",
       "<table border=\"1\" class=\"dataframe\">\n",
       "  <thead>\n",
       "    <tr style=\"text-align: right;\">\n",
       "      <th></th>\n",
       "      <th>surface</th>\n",
       "      <th>rooms</th>\n",
       "      <th>baths</th>\n",
       "      <th>latitude</th>\n",
       "      <th>longitude</th>\n",
       "      <th>price</th>\n",
       "      <th>Apartamento</th>\n",
       "      <th>Casa adosada</th>\n",
       "      <th>Casa-Chalet</th>\n",
       "      <th>Dúplex</th>\n",
       "      <th>Estudio</th>\n",
       "      <th>Finca rústica</th>\n",
       "      <th>Loft</th>\n",
       "      <th>Piso</th>\n",
       "      <th>Planta baja</th>\n",
       "      <th>Ático</th>\n",
       "    </tr>\n",
       "  </thead>\n",
       "  <tbody>\n",
       "    <tr>\n",
       "      <th>surface</th>\n",
       "      <td>1.000000</td>\n",
       "      <td>-0.084183</td>\n",
       "      <td>-0.069339</td>\n",
       "      <td>0.012255</td>\n",
       "      <td>0.005485</td>\n",
       "      <td>-0.015491</td>\n",
       "      <td>-0.013855</td>\n",
       "      <td>-0.018953</td>\n",
       "      <td>-0.029742</td>\n",
       "      <td>-0.010635</td>\n",
       "      <td>-0.003615</td>\n",
       "      <td>0.151821</td>\n",
       "      <td>-0.003141</td>\n",
       "      <td>-0.026525</td>\n",
       "      <td>-0.003416</td>\n",
       "      <td>-0.006036</td>\n",
       "    </tr>\n",
       "    <tr>\n",
       "      <th>rooms</th>\n",
       "      <td>-0.084183</td>\n",
       "      <td>1.000000</td>\n",
       "      <td>0.671194</td>\n",
       "      <td>0.040613</td>\n",
       "      <td>0.053278</td>\n",
       "      <td>0.492763</td>\n",
       "      <td>-0.277708</td>\n",
       "      <td>0.060833</td>\n",
       "      <td>0.305226</td>\n",
       "      <td>-0.074182</td>\n",
       "      <td>-0.127971</td>\n",
       "      <td>0.167168</td>\n",
       "      <td>-0.074997</td>\n",
       "      <td>-0.219516</td>\n",
       "      <td>-0.035181</td>\n",
       "      <td>-0.055894</td>\n",
       "    </tr>\n",
       "    <tr>\n",
       "      <th>baths</th>\n",
       "      <td>-0.069339</td>\n",
       "      <td>0.671194</td>\n",
       "      <td>1.000000</td>\n",
       "      <td>-0.005098</td>\n",
       "      <td>0.006357</td>\n",
       "      <td>0.588215</td>\n",
       "      <td>-0.189198</td>\n",
       "      <td>0.086622</td>\n",
       "      <td>0.297912</td>\n",
       "      <td>0.005899</td>\n",
       "      <td>-0.067426</td>\n",
       "      <td>0.050644</td>\n",
       "      <td>-0.046020</td>\n",
       "      <td>-0.269420</td>\n",
       "      <td>-0.016403</td>\n",
       "      <td>-0.080417</td>\n",
       "    </tr>\n",
       "    <tr>\n",
       "      <th>latitude</th>\n",
       "      <td>0.012255</td>\n",
       "      <td>0.040613</td>\n",
       "      <td>-0.005098</td>\n",
       "      <td>1.000000</td>\n",
       "      <td>0.994629</td>\n",
       "      <td>-0.145979</td>\n",
       "      <td>-0.018814</td>\n",
       "      <td>0.056354</td>\n",
       "      <td>0.050628</td>\n",
       "      <td>-0.082383</td>\n",
       "      <td>0.014603</td>\n",
       "      <td>0.047068</td>\n",
       "      <td>-0.123885</td>\n",
       "      <td>-0.067604</td>\n",
       "      <td>0.012100</td>\n",
       "      <td>0.012550</td>\n",
       "    </tr>\n",
       "    <tr>\n",
       "      <th>longitude</th>\n",
       "      <td>0.005485</td>\n",
       "      <td>0.053278</td>\n",
       "      <td>0.006357</td>\n",
       "      <td>0.994629</td>\n",
       "      <td>1.000000</td>\n",
       "      <td>-0.126789</td>\n",
       "      <td>-0.026124</td>\n",
       "      <td>0.054063</td>\n",
       "      <td>0.066085</td>\n",
       "      <td>-0.093609</td>\n",
       "      <td>0.014866</td>\n",
       "      <td>0.041242</td>\n",
       "      <td>-0.122023</td>\n",
       "      <td>-0.069585</td>\n",
       "      <td>0.015035</td>\n",
       "      <td>0.012760</td>\n",
       "    </tr>\n",
       "    <tr>\n",
       "      <th>price</th>\n",
       "      <td>-0.015491</td>\n",
       "      <td>0.492763</td>\n",
       "      <td>0.588215</td>\n",
       "      <td>-0.145979</td>\n",
       "      <td>-0.126789</td>\n",
       "      <td>1.000000</td>\n",
       "      <td>-0.125323</td>\n",
       "      <td>-0.055606</td>\n",
       "      <td>0.280708</td>\n",
       "      <td>-0.061107</td>\n",
       "      <td>-0.050955</td>\n",
       "      <td>0.137553</td>\n",
       "      <td>-0.031121</td>\n",
       "      <td>-0.203549</td>\n",
       "      <td>-0.018685</td>\n",
       "      <td>-0.045548</td>\n",
       "    </tr>\n",
       "    <tr>\n",
       "      <th>Apartamento</th>\n",
       "      <td>-0.013855</td>\n",
       "      <td>-0.277708</td>\n",
       "      <td>-0.189198</td>\n",
       "      <td>-0.018814</td>\n",
       "      <td>-0.026124</td>\n",
       "      <td>-0.125323</td>\n",
       "      <td>1.000000</td>\n",
       "      <td>-0.131089</td>\n",
       "      <td>-0.214127</td>\n",
       "      <td>-0.069096</td>\n",
       "      <td>-0.022248</td>\n",
       "      <td>-0.085124</td>\n",
       "      <td>-0.019888</td>\n",
       "      <td>-0.172103</td>\n",
       "      <td>-0.022248</td>\n",
       "      <td>-0.038753</td>\n",
       "    </tr>\n",
       "    <tr>\n",
       "      <th>Casa adosada</th>\n",
       "      <td>-0.018953</td>\n",
       "      <td>0.060833</td>\n",
       "      <td>0.086622</td>\n",
       "      <td>0.056354</td>\n",
       "      <td>0.054063</td>\n",
       "      <td>-0.055606</td>\n",
       "      <td>-0.131089</td>\n",
       "      <td>1.000000</td>\n",
       "      <td>-0.319683</td>\n",
       "      <td>-0.103157</td>\n",
       "      <td>-0.033215</td>\n",
       "      <td>-0.127086</td>\n",
       "      <td>-0.029691</td>\n",
       "      <td>-0.256942</td>\n",
       "      <td>-0.033215</td>\n",
       "      <td>-0.057857</td>\n",
       "    </tr>\n",
       "    <tr>\n",
       "      <th>Casa-Chalet</th>\n",
       "      <td>-0.029742</td>\n",
       "      <td>0.305226</td>\n",
       "      <td>0.297912</td>\n",
       "      <td>0.050628</td>\n",
       "      <td>0.066085</td>\n",
       "      <td>0.280708</td>\n",
       "      <td>-0.214127</td>\n",
       "      <td>-0.319683</td>\n",
       "      <td>1.000000</td>\n",
       "      <td>-0.168502</td>\n",
       "      <td>-0.054254</td>\n",
       "      <td>-0.207588</td>\n",
       "      <td>-0.048499</td>\n",
       "      <td>-0.419701</td>\n",
       "      <td>-0.054254</td>\n",
       "      <td>-0.094506</td>\n",
       "    </tr>\n",
       "    <tr>\n",
       "      <th>Dúplex</th>\n",
       "      <td>-0.010635</td>\n",
       "      <td>-0.074182</td>\n",
       "      <td>0.005899</td>\n",
       "      <td>-0.082383</td>\n",
       "      <td>-0.093609</td>\n",
       "      <td>-0.061107</td>\n",
       "      <td>-0.069096</td>\n",
       "      <td>-0.103157</td>\n",
       "      <td>-0.168502</td>\n",
       "      <td>1.000000</td>\n",
       "      <td>-0.017507</td>\n",
       "      <td>-0.066986</td>\n",
       "      <td>-0.015650</td>\n",
       "      <td>-0.135432</td>\n",
       "      <td>-0.017507</td>\n",
       "      <td>-0.030496</td>\n",
       "    </tr>\n",
       "    <tr>\n",
       "      <th>Estudio</th>\n",
       "      <td>-0.003615</td>\n",
       "      <td>-0.127971</td>\n",
       "      <td>-0.067426</td>\n",
       "      <td>0.014603</td>\n",
       "      <td>0.014866</td>\n",
       "      <td>-0.050955</td>\n",
       "      <td>-0.022248</td>\n",
       "      <td>-0.033215</td>\n",
       "      <td>-0.054254</td>\n",
       "      <td>-0.017507</td>\n",
       "      <td>1.000000</td>\n",
       "      <td>-0.021568</td>\n",
       "      <td>-0.005039</td>\n",
       "      <td>-0.043607</td>\n",
       "      <td>-0.005637</td>\n",
       "      <td>-0.009819</td>\n",
       "    </tr>\n",
       "    <tr>\n",
       "      <th>Finca rústica</th>\n",
       "      <td>0.151821</td>\n",
       "      <td>0.167168</td>\n",
       "      <td>0.050644</td>\n",
       "      <td>0.047068</td>\n",
       "      <td>0.041242</td>\n",
       "      <td>0.137553</td>\n",
       "      <td>-0.085124</td>\n",
       "      <td>-0.127086</td>\n",
       "      <td>-0.207588</td>\n",
       "      <td>-0.066986</td>\n",
       "      <td>-0.021568</td>\n",
       "      <td>1.000000</td>\n",
       "      <td>-0.019280</td>\n",
       "      <td>-0.166847</td>\n",
       "      <td>-0.021568</td>\n",
       "      <td>-0.037570</td>\n",
       "    </tr>\n",
       "    <tr>\n",
       "      <th>Loft</th>\n",
       "      <td>-0.003141</td>\n",
       "      <td>-0.074997</td>\n",
       "      <td>-0.046020</td>\n",
       "      <td>-0.123885</td>\n",
       "      <td>-0.122023</td>\n",
       "      <td>-0.031121</td>\n",
       "      <td>-0.019888</td>\n",
       "      <td>-0.029691</td>\n",
       "      <td>-0.048499</td>\n",
       "      <td>-0.015650</td>\n",
       "      <td>-0.005039</td>\n",
       "      <td>-0.019280</td>\n",
       "      <td>1.000000</td>\n",
       "      <td>-0.038981</td>\n",
       "      <td>-0.005039</td>\n",
       "      <td>-0.008777</td>\n",
       "    </tr>\n",
       "    <tr>\n",
       "      <th>Piso</th>\n",
       "      <td>-0.026525</td>\n",
       "      <td>-0.219516</td>\n",
       "      <td>-0.269420</td>\n",
       "      <td>-0.067604</td>\n",
       "      <td>-0.069585</td>\n",
       "      <td>-0.203549</td>\n",
       "      <td>-0.172103</td>\n",
       "      <td>-0.256942</td>\n",
       "      <td>-0.419701</td>\n",
       "      <td>-0.135432</td>\n",
       "      <td>-0.043607</td>\n",
       "      <td>-0.166847</td>\n",
       "      <td>-0.038981</td>\n",
       "      <td>1.000000</td>\n",
       "      <td>-0.043607</td>\n",
       "      <td>-0.075958</td>\n",
       "    </tr>\n",
       "    <tr>\n",
       "      <th>Planta baja</th>\n",
       "      <td>-0.003416</td>\n",
       "      <td>-0.035181</td>\n",
       "      <td>-0.016403</td>\n",
       "      <td>0.012100</td>\n",
       "      <td>0.015035</td>\n",
       "      <td>-0.018685</td>\n",
       "      <td>-0.022248</td>\n",
       "      <td>-0.033215</td>\n",
       "      <td>-0.054254</td>\n",
       "      <td>-0.017507</td>\n",
       "      <td>-0.005637</td>\n",
       "      <td>-0.021568</td>\n",
       "      <td>-0.005039</td>\n",
       "      <td>-0.043607</td>\n",
       "      <td>1.000000</td>\n",
       "      <td>-0.009819</td>\n",
       "    </tr>\n",
       "    <tr>\n",
       "      <th>Ático</th>\n",
       "      <td>-0.006036</td>\n",
       "      <td>-0.055894</td>\n",
       "      <td>-0.080417</td>\n",
       "      <td>0.012550</td>\n",
       "      <td>0.012760</td>\n",
       "      <td>-0.045548</td>\n",
       "      <td>-0.038753</td>\n",
       "      <td>-0.057857</td>\n",
       "      <td>-0.094506</td>\n",
       "      <td>-0.030496</td>\n",
       "      <td>-0.009819</td>\n",
       "      <td>-0.037570</td>\n",
       "      <td>-0.008777</td>\n",
       "      <td>-0.075958</td>\n",
       "      <td>-0.009819</td>\n",
       "      <td>1.000000</td>\n",
       "    </tr>\n",
       "  </tbody>\n",
       "</table>\n",
       "</div>"
      ],
      "text/plain": [
       "                surface     rooms     baths  latitude  longitude     price  \\\n",
       "surface        1.000000 -0.084183 -0.069339  0.012255   0.005485 -0.015491   \n",
       "rooms         -0.084183  1.000000  0.671194  0.040613   0.053278  0.492763   \n",
       "baths         -0.069339  0.671194  1.000000 -0.005098   0.006357  0.588215   \n",
       "latitude       0.012255  0.040613 -0.005098  1.000000   0.994629 -0.145979   \n",
       "longitude      0.005485  0.053278  0.006357  0.994629   1.000000 -0.126789   \n",
       "price         -0.015491  0.492763  0.588215 -0.145979  -0.126789  1.000000   \n",
       "Apartamento   -0.013855 -0.277708 -0.189198 -0.018814  -0.026124 -0.125323   \n",
       "Casa adosada  -0.018953  0.060833  0.086622  0.056354   0.054063 -0.055606   \n",
       "Casa-Chalet   -0.029742  0.305226  0.297912  0.050628   0.066085  0.280708   \n",
       "Dúplex        -0.010635 -0.074182  0.005899 -0.082383  -0.093609 -0.061107   \n",
       "Estudio       -0.003615 -0.127971 -0.067426  0.014603   0.014866 -0.050955   \n",
       "Finca rústica  0.151821  0.167168  0.050644  0.047068   0.041242  0.137553   \n",
       "Loft          -0.003141 -0.074997 -0.046020 -0.123885  -0.122023 -0.031121   \n",
       "Piso          -0.026525 -0.219516 -0.269420 -0.067604  -0.069585 -0.203549   \n",
       "Planta baja   -0.003416 -0.035181 -0.016403  0.012100   0.015035 -0.018685   \n",
       "Ático         -0.006036 -0.055894 -0.080417  0.012550   0.012760 -0.045548   \n",
       "\n",
       "               Apartamento  Casa adosada  Casa-Chalet    Dúplex   Estudio  \\\n",
       "surface          -0.013855     -0.018953    -0.029742 -0.010635 -0.003615   \n",
       "rooms            -0.277708      0.060833     0.305226 -0.074182 -0.127971   \n",
       "baths            -0.189198      0.086622     0.297912  0.005899 -0.067426   \n",
       "latitude         -0.018814      0.056354     0.050628 -0.082383  0.014603   \n",
       "longitude        -0.026124      0.054063     0.066085 -0.093609  0.014866   \n",
       "price            -0.125323     -0.055606     0.280708 -0.061107 -0.050955   \n",
       "Apartamento       1.000000     -0.131089    -0.214127 -0.069096 -0.022248   \n",
       "Casa adosada     -0.131089      1.000000    -0.319683 -0.103157 -0.033215   \n",
       "Casa-Chalet      -0.214127     -0.319683     1.000000 -0.168502 -0.054254   \n",
       "Dúplex           -0.069096     -0.103157    -0.168502  1.000000 -0.017507   \n",
       "Estudio          -0.022248     -0.033215    -0.054254 -0.017507  1.000000   \n",
       "Finca rústica    -0.085124     -0.127086    -0.207588 -0.066986 -0.021568   \n",
       "Loft             -0.019888     -0.029691    -0.048499 -0.015650 -0.005039   \n",
       "Piso             -0.172103     -0.256942    -0.419701 -0.135432 -0.043607   \n",
       "Planta baja      -0.022248     -0.033215    -0.054254 -0.017507 -0.005637   \n",
       "Ático            -0.038753     -0.057857    -0.094506 -0.030496 -0.009819   \n",
       "\n",
       "               Finca rústica      Loft      Piso  Planta baja     Ático  \n",
       "surface             0.151821 -0.003141 -0.026525    -0.003416 -0.006036  \n",
       "rooms               0.167168 -0.074997 -0.219516    -0.035181 -0.055894  \n",
       "baths               0.050644 -0.046020 -0.269420    -0.016403 -0.080417  \n",
       "latitude            0.047068 -0.123885 -0.067604     0.012100  0.012550  \n",
       "longitude           0.041242 -0.122023 -0.069585     0.015035  0.012760  \n",
       "price               0.137553 -0.031121 -0.203549    -0.018685 -0.045548  \n",
       "Apartamento        -0.085124 -0.019888 -0.172103    -0.022248 -0.038753  \n",
       "Casa adosada       -0.127086 -0.029691 -0.256942    -0.033215 -0.057857  \n",
       "Casa-Chalet        -0.207588 -0.048499 -0.419701    -0.054254 -0.094506  \n",
       "Dúplex             -0.066986 -0.015650 -0.135432    -0.017507 -0.030496  \n",
       "Estudio            -0.021568 -0.005039 -0.043607    -0.005637 -0.009819  \n",
       "Finca rústica       1.000000 -0.019280 -0.166847    -0.021568 -0.037570  \n",
       "Loft               -0.019280  1.000000 -0.038981    -0.005039 -0.008777  \n",
       "Piso               -0.166847 -0.038981  1.000000    -0.043607 -0.075958  \n",
       "Planta baja        -0.021568 -0.005039 -0.043607     1.000000 -0.009819  \n",
       "Ático              -0.037570 -0.008777 -0.075958    -0.009819  1.000000  "
      ]
     },
     "execution_count": 139,
     "metadata": {},
     "output_type": "execute_result"
    }
   ],
   "source": [
    "df_fotocasa_new.corr()"
   ]
  },
  {
   "cell_type": "code",
   "execution_count": 138,
   "metadata": {},
   "outputs": [
    {
     "data": {
      "image/png": "[encoded data removed]",
      "text/plain": [
       "<Figure size 1152x720 with 2 Axes>"
      ]
     },
     "metadata": {
      "needs_background": "light"
     },
     "output_type": "display_data"
    }
   ],
   "source": [
    "plt.figure(figsize=(16,10))\n",
    "sns.heatmap(df_fotocasa_new.corr(), vmax = .8, square = True)\n",
    "plt.show()"
   ]
  },
  {
   "cell_type": "code",
   "execution_count": 157,
   "metadata": {},
   "outputs": [
    {
     "data": {
      "image/png": "[encoded data removed]",
      "text/plain": [
       "<Figure size 720x720 with 4 Axes>"
      ]
     },
     "metadata": {
      "needs_background": "light"
     },
     "output_type": "display_data"
    }
   ],
   "source": [
    "cg = sns.clustermap(df_fotocasa_sell_new.corr(), cmap =\"YlGnBu\", linewidths = 0.1)"
   ]
  },
  {
   "cell_type": "code",
   "execution_count": 158,
   "metadata": {},
   "outputs": [
    {
     "data": {
      "image/png": "[encoded data removed]",
      "text/plain": [
       "<Figure size 720x720 with 4 Axes>"
      ]
     },
     "metadata": {
      "needs_background": "light"
     },
     "output_type": "display_data"
    }
   ],
   "source": [
    "cg = sns.clustermap(df_fotocasa_rent_new.corr(), cmap =\"YlGnBu\", linewidths = 0.1)"
   ]
  },
  {
   "cell_type": "markdown",
   "metadata": {},
   "source": [
    "**Catgeorical associations**\n",
    "\n",
    "Calculate **Cramers V statistic for categorial-categorial association**. It is based on a nominal variation of Pearson’s Chi-Square Test, and comes built-in with some great benefits:\n",
    "Similarly to correlation, the output is in the range of 0..1, where 0 means no association and 1 is full association. "
   ]
  },
  {
   "cell_type": "code",
   "execution_count": 146,
   "metadata": {},
   "outputs": [],
   "source": [
    "def cramers_v(x, y):\n",
    "    confusion_matrix = pd.crosstab(x,y)\n",
    "    chi2 = ss.chi2_contingency(confusion_matrix)[0]\n",
    "    n = confusion_matrix.sum().sum()\n",
    "    phi2 = chi2/n\n",
    "    r,k = confusion_matrix.shape\n",
    "    phi2corr = max(0, phi2-((k-1)*(r-1))/(n-1))\n",
    "    rcorr = r-((r-1)**2)/(n-1)\n",
    "    kcorr = k-((k-1)**2)/(n-1)\n",
    "    return np.sqrt(phi2corr/min((kcorr-1),(rcorr-1)))"
   ]
  },
  {
   "cell_type": "code",
   "execution_count": 152,
   "metadata": {},
   "outputs": [
    {
     "name": "stdout",
     "output_type": "stream",
     "text": [
      "province and province correlation: 1.0\n",
      "province and municipality correlation: 0.83676\n",
      "province and property_subtype correlation: 0.17777\n",
      "province and transacion_type correlation: 0.03964\n",
      "municipality and province correlation: 0.83676\n",
      "municipality and municipality correlation: 1.0\n",
      "municipality and property_subtype correlation: 0.36951\n",
      "municipality and transacion_type correlation: 0.0\n",
      "property_subtype and province correlation: 0.17777\n",
      "property_subtype and municipality correlation: 0.36951\n",
      "property_subtype and property_subtype correlation: 1.0\n",
      "property_subtype and transacion_type correlation: 0.0886\n",
      "transacion_type and province correlation: 0.03964\n",
      "transacion_type and municipality correlation: 0.0\n",
      "transacion_type and property_subtype correlation: 0.0886\n",
      "transacion_type and transacion_type correlation: 1.0\n"
     ]
    }
   ],
   "source": [
    "cat_list = ['province','municipality','property_subtype','transacion_type']\n",
    "\n",
    "for var_x in cat_list:\n",
    "    x = df_fotocasa[var_x]\n",
    "    for var_y in cat_list:\n",
    "        y = df_fotocasa[var_y]\n",
    "        cor = cramers_v(x, y)\n",
    "        print(\"{} and {} correlation: {}\"\\\n",
    "          .format(var_x,var_y,round(cor,5))\n",
    "        )"
   ]
  }
 ],
 "metadata": {
  "kernelspec": {
   "display_name": "Python 3",
   "language": "python",
   "name": "python3"
  },
  "language_info": {
   "codemirror_mode": {
    "name": "ipython",
    "version": 3
   },
   "file_extension": ".py",
   "mimetype": "text/x-python",
   "name": "python",
   "nbconvert_exporter": "python",
   "pygments_lexer": "ipython3",
   "version": "3.7.3"
  }
 },
 "nbformat": 4,
 "nbformat_minor": 2
}
