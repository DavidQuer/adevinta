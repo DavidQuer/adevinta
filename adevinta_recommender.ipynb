{
 "cells": [
  {
   "cell_type": "markdown",
   "metadata": {},
   "source": [
    "# Adevinta: Property characteristics similarity: Recommender\n",
    "\n",
    "Item-based collaborative filtering is a model-based algorithm for making recommendations. In the algorithm, the similarities between different items in the dataset are calculated by using one of a number of similarity measures, and then these similarity values are used to predict ratings for user-item pairs not present in the dataset.\n",
    "\n",
    "In order to build the recommender we'he followed the collaborative filtering paradingm but without matrix factorization or building a model, just the cosine distances matrix and an algorithm that returns the top 5 more similars properties to the one selected.\n",
    "\n",
    "A model-based approach has also been attempted but it's not yet finished."
   ]
  },
  {
   "cell_type": "code",
   "execution_count": 78,
   "metadata": {},
   "outputs": [
    {
     "data": {
      "text/html": [
       "<style>.container { width:95% !important; }</style>"
      ],
      "text/plain": [
       "<IPython.core.display.HTML object>"
      ]
     },
     "metadata": {},
     "output_type": "display_data"
    }
   ],
   "source": [
    "from IPython.core.display import display, HTML\n",
    "display(HTML(\"<style>.container { width:95% !important; }</style>\"))"
   ]
  },
  {
   "cell_type": "code",
   "execution_count": 79,
   "metadata": {},
   "outputs": [],
   "source": [
    "%matplotlib inline"
   ]
  },
  {
   "cell_type": "code",
   "execution_count": 80,
   "metadata": {},
   "outputs": [],
   "source": [
    "import pandas as pd\n",
    "import numpy as np\n",
    "\n",
    "import seaborn as sns\n",
    "import matplotlib.pyplot as plt\n",
    "\n",
    "from sklearn.preprocessing import StandardScaler\n",
    "from sklearn.decomposition import PCA"
   ]
  },
  {
   "cell_type": "code",
   "execution_count": 81,
   "metadata": {},
   "outputs": [],
   "source": [
    "import numpy as np\n",
    "from sklearn.metrics import pairwise_distances\n",
    "from scipy.spatial.distance import cosine"
   ]
  },
  {
   "cell_type": "markdown",
   "metadata": {},
   "source": [
    "## Adevinta: Dataset loading and cleaning"
   ]
  },
  {
   "cell_type": "code",
   "execution_count": 82,
   "metadata": {},
   "outputs": [],
   "source": [
    "df_fotocasa = pd.read_csv(\"./data/problem_data_reduced.csv\",sep=\"|\")"
   ]
  },
  {
   "cell_type": "code",
   "execution_count": 83,
   "metadata": {},
   "outputs": [
    {
     "data": {
      "text/html": [
       "<div>\n",
       "<style scoped>\n",
       "    .dataframe tbody tr th:only-of-type {\n",
       "        vertical-align: middle;\n",
       "    }\n",
       "\n",
       "    .dataframe tbody tr th {\n",
       "        vertical-align: top;\n",
       "    }\n",
       "\n",
       "    .dataframe thead th {\n",
       "        text-align: right;\n",
       "    }\n",
       "</style>\n",
       "<table border=\"1\" class=\"dataframe\">\n",
       "  <thead>\n",
       "    <tr style=\"text-align: right;\">\n",
       "      <th></th>\n",
       "      <th>idproperty</th>\n",
       "      <th>province</th>\n",
       "      <th>municipality</th>\n",
       "      <th>surface</th>\n",
       "      <th>rooms</th>\n",
       "      <th>baths</th>\n",
       "      <th>property_type</th>\n",
       "      <th>property_subtype</th>\n",
       "      <th>transacion_type</th>\n",
       "      <th>price</th>\n",
       "      <th>description</th>\n",
       "    </tr>\n",
       "  </thead>\n",
       "  <tbody>\n",
       "    <tr>\n",
       "      <th>0</th>\n",
       "      <td>qkgdhixsul</td>\n",
       "      <td>Girona</td>\n",
       "      <td>Castell-Platja d'Aro</td>\n",
       "      <td>60</td>\n",
       "      <td>2</td>\n",
       "      <td>1</td>\n",
       "      <td>Vivienda</td>\n",
       "      <td>Apartamento</td>\n",
       "      <td>Sell</td>\n",
       "      <td>178000.0</td>\n",
       "      <td>apartamento de 60 m2, dsistribuido en cocina i...</td>\n",
       "    </tr>\n",
       "    <tr>\n",
       "      <th>1</th>\n",
       "      <td>swigwvclxz</td>\n",
       "      <td>Barcelona</td>\n",
       "      <td>Vilanova i la Geltrú</td>\n",
       "      <td>197</td>\n",
       "      <td>4</td>\n",
       "      <td>2</td>\n",
       "      <td>Vivienda</td>\n",
       "      <td>Casa-Chalet</td>\n",
       "      <td>Sell</td>\n",
       "      <td>345000.0</td>\n",
       "      <td>VILANOVA I LA GELTRULes presentamos esta casa ...</td>\n",
       "    </tr>\n",
       "    <tr>\n",
       "      <th>2</th>\n",
       "      <td>bfvgsrcdoj</td>\n",
       "      <td>Lleida</td>\n",
       "      <td>Fondarella</td>\n",
       "      <td>375</td>\n",
       "      <td>5</td>\n",
       "      <td>3</td>\n",
       "      <td>Vivienda</td>\n",
       "      <td>Casa-Chalet</td>\n",
       "      <td>Sell</td>\n",
       "      <td>180000.0</td>\n",
       "      <td></td>\n",
       "    </tr>\n",
       "    <tr>\n",
       "      <th>3</th>\n",
       "      <td>tsracvmevc</td>\n",
       "      <td>Girona</td>\n",
       "      <td>Girona Capital</td>\n",
       "      <td>89</td>\n",
       "      <td>4</td>\n",
       "      <td>2</td>\n",
       "      <td>Vivienda</td>\n",
       "      <td>Piso</td>\n",
       "      <td>Sell</td>\n",
       "      <td>187000.0</td>\n",
       "      <td>Pis de 89m2, menjador de 23m2, cuina office de...</td>\n",
       "    </tr>\n",
       "    <tr>\n",
       "      <th>4</th>\n",
       "      <td>biayppbmen</td>\n",
       "      <td>Barcelona</td>\n",
       "      <td>Manresa</td>\n",
       "      <td>180</td>\n",
       "      <td>6</td>\n",
       "      <td>1</td>\n",
       "      <td>Vivienda</td>\n",
       "      <td>Piso</td>\n",
       "      <td>Sell</td>\n",
       "      <td>350000.0</td>\n",
       "      <td>MANRESA, piso de 6 habitaciones muy amplias to...</td>\n",
       "    </tr>\n",
       "  </tbody>\n",
       "</table>\n",
       "</div>"
      ],
      "text/plain": [
       "   idproperty   province          municipality  surface  rooms  baths  \\\n",
       "0  qkgdhixsul     Girona  Castell-Platja d'Aro       60      2      1   \n",
       "1  swigwvclxz  Barcelona  Vilanova i la Geltrú      197      4      2   \n",
       "2  bfvgsrcdoj     Lleida            Fondarella      375      5      3   \n",
       "3  tsracvmevc     Girona        Girona Capital       89      4      2   \n",
       "4  biayppbmen  Barcelona               Manresa      180      6      1   \n",
       "\n",
       "  property_type property_subtype transacion_type     price  \\\n",
       "0      Vivienda      Apartamento            Sell  178000.0   \n",
       "1      Vivienda      Casa-Chalet            Sell  345000.0   \n",
       "2      Vivienda      Casa-Chalet            Sell  180000.0   \n",
       "3      Vivienda             Piso            Sell  187000.0   \n",
       "4      Vivienda             Piso            Sell  350000.0   \n",
       "\n",
       "                                         description  \n",
       "0  apartamento de 60 m2, dsistribuido en cocina i...  \n",
       "1  VILANOVA I LA GELTRULes presentamos esta casa ...  \n",
       "2                                                     \n",
       "3  Pis de 89m2, menjador de 23m2, cuina office de...  \n",
       "4  MANRESA, piso de 6 habitaciones muy amplias to...  "
      ]
     },
     "execution_count": 83,
     "metadata": {},
     "output_type": "execute_result"
    }
   ],
   "source": [
    "df_fotocasa.head()"
   ]
  },
  {
   "cell_type": "code",
   "execution_count": 84,
   "metadata": {},
   "outputs": [
    {
     "name": "stdout",
     "output_type": "stream",
     "text": [
      "\n",
      "Observations: 1208, Features: 10\n",
      "\n"
     ]
    }
   ],
   "source": [
    "print(\"\\nObservations: {}, Features: {}\\n\".format(df_fotocasa.shape[0], df_fotocasa.shape[1]-1))"
   ]
  },
  {
   "cell_type": "code",
   "execution_count": 85,
   "metadata": {},
   "outputs": [],
   "source": [
    "df_fotocasa_vars = df_fotocasa[[\"idproperty\",\"surface\",\"rooms\",\"baths\"]].copy()\n",
    "\n",
    "df_fotocasa_province = pd.get_dummies(df_fotocasa.province)\n",
    "df_fotocasa_municipality = pd.get_dummies(df_fotocasa.municipality)\n",
    "df_fotocasa_property_subtype = pd.get_dummies(df_fotocasa.property_subtype)\n",
    "df_fotocasa_transacion_type = pd.get_dummies(df_fotocasa.transacion_type)"
   ]
  },
  {
   "cell_type": "code",
   "execution_count": 86,
   "metadata": {},
   "outputs": [],
   "source": [
    "df_fotocasa_new = pd.concat([\n",
    "    df_fotocasa_vars, \n",
    "    df_fotocasa_province,\n",
    "    #df_fotocasa_municipality,\n",
    "    df_fotocasa_property_subtype,\n",
    "    df_fotocasa_transacion_type\n",
    "], axis=1,sort=False)"
   ]
  },
  {
   "cell_type": "code",
   "execution_count": 87,
   "metadata": {},
   "outputs": [
    {
     "data": {
      "text/html": [
       "<div>\n",
       "<style scoped>\n",
       "    .dataframe tbody tr th:only-of-type {\n",
       "        vertical-align: middle;\n",
       "    }\n",
       "\n",
       "    .dataframe tbody tr th {\n",
       "        vertical-align: top;\n",
       "    }\n",
       "\n",
       "    .dataframe thead th {\n",
       "        text-align: right;\n",
       "    }\n",
       "</style>\n",
       "<table border=\"1\" class=\"dataframe\">\n",
       "  <thead>\n",
       "    <tr style=\"text-align: right;\">\n",
       "      <th></th>\n",
       "      <th>idproperty</th>\n",
       "      <th>surface</th>\n",
       "      <th>rooms</th>\n",
       "      <th>baths</th>\n",
       "      <th>Barcelona</th>\n",
       "      <th>Girona</th>\n",
       "      <th>Lleida</th>\n",
       "      <th>Tarragona</th>\n",
       "      <th>Apartamento</th>\n",
       "      <th>Casa adosada</th>\n",
       "      <th>...</th>\n",
       "      <th>Estudio</th>\n",
       "      <th>Finca rústica</th>\n",
       "      <th>Loft</th>\n",
       "      <th>Piso</th>\n",
       "      <th>Planta baja</th>\n",
       "      <th>Ático</th>\n",
       "      <th>Added in Olap</th>\n",
       "      <th>Rent</th>\n",
       "      <th>Sell</th>\n",
       "      <th>Share</th>\n",
       "    </tr>\n",
       "  </thead>\n",
       "  <tbody>\n",
       "    <tr>\n",
       "      <th>0</th>\n",
       "      <td>qkgdhixsul</td>\n",
       "      <td>60</td>\n",
       "      <td>2</td>\n",
       "      <td>1</td>\n",
       "      <td>0</td>\n",
       "      <td>1</td>\n",
       "      <td>0</td>\n",
       "      <td>0</td>\n",
       "      <td>1</td>\n",
       "      <td>0</td>\n",
       "      <td>...</td>\n",
       "      <td>0</td>\n",
       "      <td>0</td>\n",
       "      <td>0</td>\n",
       "      <td>0</td>\n",
       "      <td>0</td>\n",
       "      <td>0</td>\n",
       "      <td>0</td>\n",
       "      <td>0</td>\n",
       "      <td>1</td>\n",
       "      <td>0</td>\n",
       "    </tr>\n",
       "    <tr>\n",
       "      <th>1</th>\n",
       "      <td>swigwvclxz</td>\n",
       "      <td>197</td>\n",
       "      <td>4</td>\n",
       "      <td>2</td>\n",
       "      <td>1</td>\n",
       "      <td>0</td>\n",
       "      <td>0</td>\n",
       "      <td>0</td>\n",
       "      <td>0</td>\n",
       "      <td>0</td>\n",
       "      <td>...</td>\n",
       "      <td>0</td>\n",
       "      <td>0</td>\n",
       "      <td>0</td>\n",
       "      <td>0</td>\n",
       "      <td>0</td>\n",
       "      <td>0</td>\n",
       "      <td>0</td>\n",
       "      <td>0</td>\n",
       "      <td>1</td>\n",
       "      <td>0</td>\n",
       "    </tr>\n",
       "    <tr>\n",
       "      <th>2</th>\n",
       "      <td>bfvgsrcdoj</td>\n",
       "      <td>375</td>\n",
       "      <td>5</td>\n",
       "      <td>3</td>\n",
       "      <td>0</td>\n",
       "      <td>0</td>\n",
       "      <td>1</td>\n",
       "      <td>0</td>\n",
       "      <td>0</td>\n",
       "      <td>0</td>\n",
       "      <td>...</td>\n",
       "      <td>0</td>\n",
       "      <td>0</td>\n",
       "      <td>0</td>\n",
       "      <td>0</td>\n",
       "      <td>0</td>\n",
       "      <td>0</td>\n",
       "      <td>0</td>\n",
       "      <td>0</td>\n",
       "      <td>1</td>\n",
       "      <td>0</td>\n",
       "    </tr>\n",
       "    <tr>\n",
       "      <th>3</th>\n",
       "      <td>tsracvmevc</td>\n",
       "      <td>89</td>\n",
       "      <td>4</td>\n",
       "      <td>2</td>\n",
       "      <td>0</td>\n",
       "      <td>1</td>\n",
       "      <td>0</td>\n",
       "      <td>0</td>\n",
       "      <td>0</td>\n",
       "      <td>0</td>\n",
       "      <td>...</td>\n",
       "      <td>0</td>\n",
       "      <td>0</td>\n",
       "      <td>0</td>\n",
       "      <td>1</td>\n",
       "      <td>0</td>\n",
       "      <td>0</td>\n",
       "      <td>0</td>\n",
       "      <td>0</td>\n",
       "      <td>1</td>\n",
       "      <td>0</td>\n",
       "    </tr>\n",
       "    <tr>\n",
       "      <th>4</th>\n",
       "      <td>biayppbmen</td>\n",
       "      <td>180</td>\n",
       "      <td>6</td>\n",
       "      <td>1</td>\n",
       "      <td>1</td>\n",
       "      <td>0</td>\n",
       "      <td>0</td>\n",
       "      <td>0</td>\n",
       "      <td>0</td>\n",
       "      <td>0</td>\n",
       "      <td>...</td>\n",
       "      <td>0</td>\n",
       "      <td>0</td>\n",
       "      <td>0</td>\n",
       "      <td>1</td>\n",
       "      <td>0</td>\n",
       "      <td>0</td>\n",
       "      <td>0</td>\n",
       "      <td>0</td>\n",
       "      <td>1</td>\n",
       "      <td>0</td>\n",
       "    </tr>\n",
       "  </tbody>\n",
       "</table>\n",
       "<p>5 rows × 22 columns</p>\n",
       "</div>"
      ],
      "text/plain": [
       "   idproperty  surface  rooms  baths  Barcelona  Girona  Lleida  Tarragona  \\\n",
       "0  qkgdhixsul       60      2      1          0       1       0          0   \n",
       "1  swigwvclxz      197      4      2          1       0       0          0   \n",
       "2  bfvgsrcdoj      375      5      3          0       0       1          0   \n",
       "3  tsracvmevc       89      4      2          0       1       0          0   \n",
       "4  biayppbmen      180      6      1          1       0       0          0   \n",
       "\n",
       "   Apartamento  Casa adosada  ...  Estudio  Finca rústica  Loft  Piso  \\\n",
       "0            1             0  ...        0              0     0     0   \n",
       "1            0             0  ...        0              0     0     0   \n",
       "2            0             0  ...        0              0     0     0   \n",
       "3            0             0  ...        0              0     0     1   \n",
       "4            0             0  ...        0              0     0     1   \n",
       "\n",
       "   Planta baja  Ático  Added in Olap  Rent  Sell  Share  \n",
       "0            0      0              0     0     1      0  \n",
       "1            0      0              0     0     1      0  \n",
       "2            0      0              0     0     1      0  \n",
       "3            0      0              0     0     1      0  \n",
       "4            0      0              0     0     1      0  \n",
       "\n",
       "[5 rows x 22 columns]"
      ]
     },
     "execution_count": 87,
     "metadata": {},
     "output_type": "execute_result"
    }
   ],
   "source": [
    "df_fotocasa_new.head()"
   ]
  },
  {
   "cell_type": "code",
   "execution_count": 88,
   "metadata": {},
   "outputs": [
    {
     "data": {
      "text/plain": [
       "(1208, 22)"
      ]
     },
     "execution_count": 88,
     "metadata": {},
     "output_type": "execute_result"
    }
   ],
   "source": [
    "df_fotocasa_new.shape"
   ]
  },
  {
   "cell_type": "code",
   "execution_count": 89,
   "metadata": {},
   "outputs": [],
   "source": [
    "df_fotocasa_first = df_fotocasa_new.groupby(['idproperty']).first()"
   ]
  },
  {
   "cell_type": "code",
   "execution_count": 90,
   "metadata": {},
   "outputs": [
    {
     "data": {
      "text/plain": [
       "(904, 21)"
      ]
     },
     "execution_count": 90,
     "metadata": {},
     "output_type": "execute_result"
    }
   ],
   "source": [
    "df_fotocasa_first.shape"
   ]
  },
  {
   "cell_type": "markdown",
   "metadata": {},
   "source": [
    "## Adevinta: Recomender: Collaborative Filtering\n",
    "\n",
    "A recommender system is where the system is capable of producing a list of recommendation with respect to an item. One of the ways to create a recommender system is through Collaborative Filtering, where the information is filtered by looking at the activity of other users. "
   ]
  },
  {
   "cell_type": "markdown",
   "metadata": {},
   "source": [
    "## Adevinta: Item-to-item cosine similarity"
   ]
  },
  {
   "cell_type": "markdown",
   "metadata": {},
   "source": [
    "**Selection of similarity metric**\n",
    "\n",
    "- Pearson when data is subject to user-bias\n",
    "- Cosine, if data is sparse \n",
    "- Euclidean, if your data is not sparse \n",
    "- Adjusted cosine for item-based approach to adjust for user-bias"
   ]
  },
  {
   "cell_type": "code",
   "execution_count": 94,
   "metadata": {},
   "outputs": [],
   "source": [
    "X = np.array(df_fotocasa_first.reset_index()[df_fotocasa_first.columns]).astype('float')"
   ]
  },
  {
   "cell_type": "markdown",
   "metadata": {},
   "source": [
    "**Data scaling**"
   ]
  },
  {
   "cell_type": "code",
   "execution_count": 95,
   "metadata": {},
   "outputs": [],
   "source": [
    "scaler = StandardScaler()\n",
    "scaler.fit(X)\n",
    "X_sacled = scaler.transform(X)"
   ]
  },
  {
   "cell_type": "markdown",
   "metadata": {},
   "source": [
    "**Similarity matrix**"
   ]
  },
  {
   "cell_type": "code",
   "execution_count": 108,
   "metadata": {},
   "outputs": [],
   "source": [
    "cosdist_out = 1-pairwise_distances(X_sacled, metric=\"cosine\")"
   ]
  },
  {
   "cell_type": "code",
   "execution_count": 109,
   "metadata": {},
   "outputs": [
    {
     "data": {
      "text/html": [
       "<div>\n",
       "<style scoped>\n",
       "    .dataframe tbody tr th:only-of-type {\n",
       "        vertical-align: middle;\n",
       "    }\n",
       "\n",
       "    .dataframe tbody tr th {\n",
       "        vertical-align: top;\n",
       "    }\n",
       "\n",
       "    .dataframe thead th {\n",
       "        text-align: right;\n",
       "    }\n",
       "</style>\n",
       "<table border=\"1\" class=\"dataframe\">\n",
       "  <thead>\n",
       "    <tr style=\"text-align: right;\">\n",
       "      <th></th>\n",
       "      <th>abkvpehvdk</th>\n",
       "      <th>abrrpeggwd</th>\n",
       "      <th>adqphxnrhg</th>\n",
       "      <th>adsvpzczjm</th>\n",
       "      <th>aemkznotwk</th>\n",
       "      <th>aeunvoqpfk</th>\n",
       "      <th>aexiyslvzb</th>\n",
       "      <th>afpxjapnaa</th>\n",
       "      <th>aglafrntto</th>\n",
       "      <th>agvdpedzlx</th>\n",
       "      <th>...</th>\n",
       "      <th>zrgbsuyzxw</th>\n",
       "      <th>zrsflarpkv</th>\n",
       "      <th>zswfozpnpq</th>\n",
       "      <th>zufqkgdlos</th>\n",
       "      <th>zuqgmuxggs</th>\n",
       "      <th>zvepjajedz</th>\n",
       "      <th>zxkniyripf</th>\n",
       "      <th>zxmtqvtewr</th>\n",
       "      <th>zzqybyrjsg</th>\n",
       "      <th>idproperty</th>\n",
       "    </tr>\n",
       "  </thead>\n",
       "  <tbody>\n",
       "    <tr>\n",
       "      <th>0</th>\n",
       "      <td>1.000000</td>\n",
       "      <td>0.714619</td>\n",
       "      <td>-0.327909</td>\n",
       "      <td>-0.157857</td>\n",
       "      <td>0.339355</td>\n",
       "      <td>0.485678</td>\n",
       "      <td>0.485678</td>\n",
       "      <td>0.009127</td>\n",
       "      <td>-0.134279</td>\n",
       "      <td>0.748309</td>\n",
       "      <td>...</td>\n",
       "      <td>-0.038692</td>\n",
       "      <td>-0.153109</td>\n",
       "      <td>0.147416</td>\n",
       "      <td>-0.369042</td>\n",
       "      <td>-0.125557</td>\n",
       "      <td>-0.177790</td>\n",
       "      <td>-0.161843</td>\n",
       "      <td>-0.134283</td>\n",
       "      <td>-0.316778</td>\n",
       "      <td>abkvpehvdk</td>\n",
       "    </tr>\n",
       "    <tr>\n",
       "      <th>1</th>\n",
       "      <td>0.714619</td>\n",
       "      <td>1.000000</td>\n",
       "      <td>-0.031288</td>\n",
       "      <td>-0.093798</td>\n",
       "      <td>0.462845</td>\n",
       "      <td>0.533254</td>\n",
       "      <td>0.533255</td>\n",
       "      <td>0.056913</td>\n",
       "      <td>-0.078601</td>\n",
       "      <td>0.391823</td>\n",
       "      <td>...</td>\n",
       "      <td>0.027126</td>\n",
       "      <td>0.176600</td>\n",
       "      <td>0.259783</td>\n",
       "      <td>-0.339278</td>\n",
       "      <td>-0.073310</td>\n",
       "      <td>-0.154387</td>\n",
       "      <td>-0.172143</td>\n",
       "      <td>-0.078603</td>\n",
       "      <td>0.027561</td>\n",
       "      <td>abrrpeggwd</td>\n",
       "    </tr>\n",
       "    <tr>\n",
       "      <th>2</th>\n",
       "      <td>-0.327909</td>\n",
       "      <td>-0.031288</td>\n",
       "      <td>1.000000</td>\n",
       "      <td>-0.259417</td>\n",
       "      <td>0.003985</td>\n",
       "      <td>-0.319756</td>\n",
       "      <td>-0.319759</td>\n",
       "      <td>-0.162643</td>\n",
       "      <td>-0.223652</td>\n",
       "      <td>-0.020338</td>\n",
       "      <td>...</td>\n",
       "      <td>-0.243193</td>\n",
       "      <td>0.624968</td>\n",
       "      <td>-0.373722</td>\n",
       "      <td>-0.180016</td>\n",
       "      <td>0.273105</td>\n",
       "      <td>0.337490</td>\n",
       "      <td>0.007943</td>\n",
       "      <td>-0.223660</td>\n",
       "      <td>0.707881</td>\n",
       "      <td>adqphxnrhg</td>\n",
       "    </tr>\n",
       "    <tr>\n",
       "      <th>3</th>\n",
       "      <td>-0.157857</td>\n",
       "      <td>-0.093798</td>\n",
       "      <td>-0.259417</td>\n",
       "      <td>1.000000</td>\n",
       "      <td>0.207353</td>\n",
       "      <td>-0.315145</td>\n",
       "      <td>-0.315151</td>\n",
       "      <td>0.217288</td>\n",
       "      <td>0.268700</td>\n",
       "      <td>-0.159713</td>\n",
       "      <td>...</td>\n",
       "      <td>0.265056</td>\n",
       "      <td>-0.241218</td>\n",
       "      <td>0.922565</td>\n",
       "      <td>0.945599</td>\n",
       "      <td>0.225748</td>\n",
       "      <td>-0.384292</td>\n",
       "      <td>0.090251</td>\n",
       "      <td>0.268692</td>\n",
       "      <td>0.168054</td>\n",
       "      <td>adsvpzczjm</td>\n",
       "    </tr>\n",
       "    <tr>\n",
       "      <th>4</th>\n",
       "      <td>0.339355</td>\n",
       "      <td>0.462845</td>\n",
       "      <td>0.003985</td>\n",
       "      <td>0.207353</td>\n",
       "      <td>1.000000</td>\n",
       "      <td>0.107921</td>\n",
       "      <td>0.107919</td>\n",
       "      <td>-0.156705</td>\n",
       "      <td>-0.251866</td>\n",
       "      <td>0.539242</td>\n",
       "      <td>...</td>\n",
       "      <td>-0.116848</td>\n",
       "      <td>-0.229332</td>\n",
       "      <td>0.426203</td>\n",
       "      <td>0.045187</td>\n",
       "      <td>0.812323</td>\n",
       "      <td>0.282468</td>\n",
       "      <td>-0.184841</td>\n",
       "      <td>-0.251874</td>\n",
       "      <td>-0.363411</td>\n",
       "      <td>aemkznotwk</td>\n",
       "    </tr>\n",
       "  </tbody>\n",
       "</table>\n",
       "<p>5 rows × 905 columns</p>\n",
       "</div>"
      ],
      "text/plain": [
       "   abkvpehvdk  abrrpeggwd  adqphxnrhg  adsvpzczjm  aemkznotwk  aeunvoqpfk  \\\n",
       "0    1.000000    0.714619   -0.327909   -0.157857    0.339355    0.485678   \n",
       "1    0.714619    1.000000   -0.031288   -0.093798    0.462845    0.533254   \n",
       "2   -0.327909   -0.031288    1.000000   -0.259417    0.003985   -0.319756   \n",
       "3   -0.157857   -0.093798   -0.259417    1.000000    0.207353   -0.315145   \n",
       "4    0.339355    0.462845    0.003985    0.207353    1.000000    0.107921   \n",
       "\n",
       "   aexiyslvzb  afpxjapnaa  aglafrntto  agvdpedzlx  ...  zrgbsuyzxw  \\\n",
       "0    0.485678    0.009127   -0.134279    0.748309  ...   -0.038692   \n",
       "1    0.533255    0.056913   -0.078601    0.391823  ...    0.027126   \n",
       "2   -0.319759   -0.162643   -0.223652   -0.020338  ...   -0.243193   \n",
       "3   -0.315151    0.217288    0.268700   -0.159713  ...    0.265056   \n",
       "4    0.107919   -0.156705   -0.251866    0.539242  ...   -0.116848   \n",
       "\n",
       "   zrsflarpkv  zswfozpnpq  zufqkgdlos  zuqgmuxggs  zvepjajedz  zxkniyripf  \\\n",
       "0   -0.153109    0.147416   -0.369042   -0.125557   -0.177790   -0.161843   \n",
       "1    0.176600    0.259783   -0.339278   -0.073310   -0.154387   -0.172143   \n",
       "2    0.624968   -0.373722   -0.180016    0.273105    0.337490    0.007943   \n",
       "3   -0.241218    0.922565    0.945599    0.225748   -0.384292    0.090251   \n",
       "4   -0.229332    0.426203    0.045187    0.812323    0.282468   -0.184841   \n",
       "\n",
       "   zxmtqvtewr  zzqybyrjsg  idproperty  \n",
       "0   -0.134283   -0.316778  abkvpehvdk  \n",
       "1   -0.078603    0.027561  abrrpeggwd  \n",
       "2   -0.223660    0.707881  adqphxnrhg  \n",
       "3    0.268692    0.168054  adsvpzczjm  \n",
       "4   -0.251874   -0.363411  aemkznotwk  \n",
       "\n",
       "[5 rows x 905 columns]"
      ]
     },
     "execution_count": 109,
     "metadata": {},
     "output_type": "execute_result"
    }
   ],
   "source": [
    "df_sim_matrix = pd.DataFrame(cosdist_out)\n",
    "df_sim_matrix.columns = list(df_fotocasa_first.reset_index().idproperty)\n",
    "\n",
    "df_sim_matrix['idproperty'] = df_fotocasa_first.reset_index().idproperty\n",
    "df_sim_matrix.head()"
   ]
  },
  {
   "cell_type": "markdown",
   "metadata": {},
   "source": [
    "**Recomendation (top 5)**"
   ]
  },
  {
   "cell_type": "code",
   "execution_count": 99,
   "metadata": {},
   "outputs": [],
   "source": [
    "df_orig = df_fotocasa_first.reset_index().copy()"
   ]
  },
  {
   "cell_type": "code",
   "execution_count": 132,
   "metadata": {},
   "outputs": [],
   "source": [
    "prop = 'abkvpehvdk'\n",
    "prop = 'afpxjapnaa'"
   ]
  },
  {
   "cell_type": "code",
   "execution_count": 133,
   "metadata": {},
   "outputs": [
    {
     "data": {
      "text/html": [
       "<div>\n",
       "<style scoped>\n",
       "    .dataframe tbody tr th:only-of-type {\n",
       "        vertical-align: middle;\n",
       "    }\n",
       "\n",
       "    .dataframe tbody tr th {\n",
       "        vertical-align: top;\n",
       "    }\n",
       "\n",
       "    .dataframe thead th {\n",
       "        text-align: right;\n",
       "    }\n",
       "</style>\n",
       "<table border=\"1\" class=\"dataframe\">\n",
       "  <thead>\n",
       "    <tr style=\"text-align: right;\">\n",
       "      <th></th>\n",
       "      <th>idproperty</th>\n",
       "      <th>province</th>\n",
       "      <th>municipality</th>\n",
       "      <th>surface</th>\n",
       "      <th>rooms</th>\n",
       "      <th>baths</th>\n",
       "      <th>price</th>\n",
       "      <th>property_subtype</th>\n",
       "      <th>description</th>\n",
       "    </tr>\n",
       "  </thead>\n",
       "  <tbody>\n",
       "    <tr>\n",
       "      <th>0</th>\n",
       "      <td>afpxjapnaa</td>\n",
       "      <td>Tarragona</td>\n",
       "      <td>Cambrils</td>\n",
       "      <td>120</td>\n",
       "      <td>3</td>\n",
       "      <td>3</td>\n",
       "      <td>370000.0</td>\n",
       "      <td>Casa adosada</td>\n",
       "      <td>Magnífica casa adosada cantonera en Cambrils, ...</td>\n",
       "    </tr>\n",
       "  </tbody>\n",
       "</table>\n",
       "</div>"
      ],
      "text/plain": [
       "   idproperty   province municipality  surface  rooms  baths     price  \\\n",
       "0  afpxjapnaa  Tarragona     Cambrils      120      3      3  370000.0   \n",
       "\n",
       "  property_subtype                                        description  \n",
       "0     Casa adosada  Magnífica casa adosada cantonera en Cambrils, ...  "
      ]
     },
     "execution_count": 133,
     "metadata": {},
     "output_type": "execute_result"
    }
   ],
   "source": [
    "df_fotocasa[\n",
    "    df_fotocasa.idproperty.isin([prop])\n",
    "][['idproperty','province','municipality','surface',\n",
    "   'rooms','baths','price','property_subtype','description']] \\\n",
    "    .groupby('idproperty').first().reset_index()"
   ]
  },
  {
   "cell_type": "markdown",
   "metadata": {},
   "source": [
    "**Getting the top 5 properties by cosine similarity**"
   ]
  },
  {
   "cell_type": "code",
   "execution_count": 134,
   "metadata": {},
   "outputs": [
    {
     "data": {
      "text/html": [
       "<div>\n",
       "<style scoped>\n",
       "    .dataframe tbody tr th:only-of-type {\n",
       "        vertical-align: middle;\n",
       "    }\n",
       "\n",
       "    .dataframe tbody tr th {\n",
       "        vertical-align: top;\n",
       "    }\n",
       "\n",
       "    .dataframe thead th {\n",
       "        text-align: right;\n",
       "    }\n",
       "</style>\n",
       "<table border=\"1\" class=\"dataframe\">\n",
       "  <thead>\n",
       "    <tr style=\"text-align: right;\">\n",
       "      <th></th>\n",
       "      <th>idproperty</th>\n",
       "      <th>province</th>\n",
       "      <th>municipality</th>\n",
       "      <th>surface</th>\n",
       "      <th>rooms</th>\n",
       "      <th>baths</th>\n",
       "      <th>price</th>\n",
       "      <th>property_subtype</th>\n",
       "      <th>description</th>\n",
       "    </tr>\n",
       "  </thead>\n",
       "  <tbody>\n",
       "    <tr>\n",
       "      <th>0</th>\n",
       "      <td>afpxjapnaa</td>\n",
       "      <td>Tarragona</td>\n",
       "      <td>Cambrils</td>\n",
       "      <td>120</td>\n",
       "      <td>3</td>\n",
       "      <td>3</td>\n",
       "      <td>370000.0</td>\n",
       "      <td>Casa adosada</td>\n",
       "      <td>Magnífica casa adosada cantonera en Cambrils, ...</td>\n",
       "    </tr>\n",
       "    <tr>\n",
       "      <th>1</th>\n",
       "      <td>btzjxbatdb</td>\n",
       "      <td>Tarragona</td>\n",
       "      <td>Mont-roig del Camp</td>\n",
       "      <td>120</td>\n",
       "      <td>3</td>\n",
       "      <td>3</td>\n",
       "      <td>265000.0</td>\n",
       "      <td>Casa adosada</td>\n",
       "      <td></td>\n",
       "    </tr>\n",
       "    <tr>\n",
       "      <th>2</th>\n",
       "      <td>gsdfinkefl</td>\n",
       "      <td>Tarragona</td>\n",
       "      <td>Torredembarra</td>\n",
       "      <td>185</td>\n",
       "      <td>4</td>\n",
       "      <td>3</td>\n",
       "      <td>280000.0</td>\n",
       "      <td>Casa adosada</td>\n",
       "      <td>Próxima Promoción en Urbanización Sant Jordi. ...</td>\n",
       "    </tr>\n",
       "    <tr>\n",
       "      <th>3</th>\n",
       "      <td>hohptqqnsl</td>\n",
       "      <td>Tarragona</td>\n",
       "      <td>Reus</td>\n",
       "      <td>159</td>\n",
       "      <td>4</td>\n",
       "      <td>3</td>\n",
       "      <td>240000.0</td>\n",
       "      <td>Casa adosada</td>\n",
       "      <td>NUEVA FASE EN VENTA. Nueva promoción de casas ...</td>\n",
       "    </tr>\n",
       "    <tr>\n",
       "      <th>4</th>\n",
       "      <td>ieuftaczfb</td>\n",
       "      <td>Tarragona</td>\n",
       "      <td>El Montmell</td>\n",
       "      <td>140</td>\n",
       "      <td>4</td>\n",
       "      <td>3</td>\n",
       "      <td>149000.0</td>\n",
       "      <td>Casa adosada</td>\n",
       "      <td>GRAN OPORTUNIDAD POR CAMBIO DE RESIDENCIA!!!!V...</td>\n",
       "    </tr>\n",
       "    <tr>\n",
       "      <th>5</th>\n",
       "      <td>uisfjlyigd</td>\n",
       "      <td>Tarragona</td>\n",
       "      <td>Banyeres del Penedès</td>\n",
       "      <td>182</td>\n",
       "      <td>3</td>\n",
       "      <td>3</td>\n",
       "      <td>225000.0</td>\n",
       "      <td>Casa adosada</td>\n",
       "      <td>casa de dos planta más garaje con jardin y dos...</td>\n",
       "    </tr>\n",
       "  </tbody>\n",
       "</table>\n",
       "</div>"
      ],
      "text/plain": [
       "   idproperty   province          municipality  surface  rooms  baths  \\\n",
       "0  afpxjapnaa  Tarragona              Cambrils      120      3      3   \n",
       "1  btzjxbatdb  Tarragona    Mont-roig del Camp      120      3      3   \n",
       "2  gsdfinkefl  Tarragona         Torredembarra      185      4      3   \n",
       "3  hohptqqnsl  Tarragona                  Reus      159      4      3   \n",
       "4  ieuftaczfb  Tarragona           El Montmell      140      4      3   \n",
       "5  uisfjlyigd  Tarragona  Banyeres del Penedès      182      3      3   \n",
       "\n",
       "      price property_subtype  \\\n",
       "0  370000.0     Casa adosada   \n",
       "1  265000.0     Casa adosada   \n",
       "2  280000.0     Casa adosada   \n",
       "3  240000.0     Casa adosada   \n",
       "4  149000.0     Casa adosada   \n",
       "5  225000.0     Casa adosada   \n",
       "\n",
       "                                         description  \n",
       "0  Magnífica casa adosada cantonera en Cambrils, ...  \n",
       "1                                                     \n",
       "2  Próxima Promoción en Urbanización Sant Jordi. ...  \n",
       "3  NUEVA FASE EN VENTA. Nueva promoción de casas ...  \n",
       "4  GRAN OPORTUNIDAD POR CAMBIO DE RESIDENCIA!!!!V...  \n",
       "5  casa de dos planta más garaje con jardin y dos...  "
      ]
     },
     "execution_count": 134,
     "metadata": {},
     "output_type": "execute_result"
    }
   ],
   "source": [
    "df_fotocasa[\n",
    "    df_fotocasa.idproperty.isin(\n",
    "        list(df_sim_matrix[['idproperty',prop]] \\\n",
    "                 .sort_values(by=prop, ascending=False).head(6).idproperty)\n",
    "    )\n",
    "][['idproperty','province','municipality','surface',\n",
    "   'rooms','baths','price','property_subtype','description']] \\\n",
    "    .groupby('idproperty').first().reset_index()"
   ]
  },
  {
   "cell_type": "markdown",
   "metadata": {},
   "source": [
    "## Adevinta: Model based collaborative filtering\n",
    "\n",
    "Not finished yet so it's not mentioned in the report."
   ]
  },
  {
   "cell_type": "code",
   "execution_count": 114,
   "metadata": {},
   "outputs": [],
   "source": [
    "import pandas as pd\n",
    "from surprise import Dataset\n",
    "from surprise import Reader\n",
    "\n",
    "df = df_sim_matrix.melt(id_vars=[\"idproperty\"], \n",
    "        var_name=\"property\", \n",
    "        value_name=\"rating\")\n",
    "reader = Reader(rating_scale=(-1, 1))\n",
    "\n",
    "data = Dataset.load_from_df(df[\n",
    "    [\"idproperty\", \"property\", \"rating\"]], reader)\n",
    "\n",
    "from surprise import KNNWithMeans\n",
    "\n",
    "sim_options = {\n",
    "    \"name\": \"cosine\",\n",
    "    \"user_based\": False,  \n",
    "}\n",
    "algo = KNNWithMeans(sim_options=sim_options)"
   ]
  },
  {
   "cell_type": "code",
   "execution_count": 117,
   "metadata": {},
   "outputs": [
    {
     "name": "stdout",
     "output_type": "stream",
     "text": [
      "Computing the cosine similarity matrix...\n",
      "Done computing similarity matrix.\n"
     ]
    },
    {
     "data": {
      "text/plain": [
       "<surprise.prediction_algorithms.knns.KNNWithMeans at 0x109a44e48>"
      ]
     },
     "execution_count": 117,
     "metadata": {},
     "output_type": "execute_result"
    }
   ],
   "source": [
    "trainingSet = data.build_full_trainset()\n",
    "algo.fit(trainingSet)"
   ]
  },
  {
   "cell_type": "code",
   "execution_count": 128,
   "metadata": {},
   "outputs": [
    {
     "data": {
      "text/plain": [
       "Prediction(uid='abkvpehvdk', iid='abkvpehvdk', r_ui=None, est=0.6925364820994977, details={'actual_k': 40, 'was_impossible': False})"
      ]
     },
     "execution_count": 128,
     "metadata": {},
     "output_type": "execute_result"
    }
   ],
   "source": [
    "algo.predict('abkvpehvdk','abkvpehvdk')"
   ]
  },
  {
   "cell_type": "code",
   "execution_count": 124,
   "metadata": {},
   "outputs": [
    {
     "data": {
      "text/plain": [
       "idproperty    abkvpehvdk\n",
       "property      abkvpehvdk\n",
       "rating                 1\n",
       "Name: 0, dtype: object"
      ]
     },
     "execution_count": 124,
     "metadata": {},
     "output_type": "execute_result"
    }
   ],
   "source": [
    "data.df.iloc[0].T"
   ]
  }
 ],
 "metadata": {
  "kernelspec": {
   "display_name": "Python 3",
   "language": "python",
   "name": "python3"
  },
  "language_info": {
   "codemirror_mode": {
    "name": "ipython",
    "version": 3
   },
   "file_extension": ".py",
   "mimetype": "text/x-python",
   "name": "python",
   "nbconvert_exporter": "python",
   "pygments_lexer": "ipython3",
   "version": "3.7.3"
  }
 },
 "nbformat": 4,
 "nbformat_minor": 2
}
